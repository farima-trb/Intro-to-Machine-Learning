{
 "cells": [
  {
   "cell_type": "markdown",
   "id": "75452dd3",
   "metadata": {
    "papermill": {
     "duration": 0.00726,
     "end_time": "2024-01-24T10:38:28.093592",
     "exception": false,
     "start_time": "2024-01-24T10:38:28.086332",
     "status": "completed"
    },
    "tags": []
   },
   "source": [
    "**This notebook is an exercise in the [Data Cleaning](https://www.kaggle.com/learn/data-cleaning) course.  You can reference the tutorial at [this link](https://www.kaggle.com/alexisbcook/inconsistent-data-entry).**\n",
    "\n",
    "---\n"
   ]
  },
  {
   "cell_type": "markdown",
   "id": "92dec67d",
   "metadata": {
    "papermill": {
     "duration": 0.006525,
     "end_time": "2024-01-24T10:38:28.107613",
     "exception": false,
     "start_time": "2024-01-24T10:38:28.101088",
     "status": "completed"
    },
    "tags": []
   },
   "source": [
    "In this exercise, you'll apply what you learned in the **Inconsistent data entry** tutorial.\n",
    "\n",
    "# Setup\n",
    "\n",
    "The questions below will give you feedback on your work. Run the following cell to set up the feedback system."
   ]
  },
  {
   "cell_type": "code",
   "execution_count": 1,
   "id": "0064fa09",
   "metadata": {
    "execution": {
     "iopub.execute_input": "2024-01-24T10:38:28.124272Z",
     "iopub.status.busy": "2024-01-24T10:38:28.123356Z",
     "iopub.status.idle": "2024-01-24T10:38:28.784483Z",
     "shell.execute_reply": "2024-01-24T10:38:28.783588Z"
    },
    "papermill": {
     "duration": 0.673857,
     "end_time": "2024-01-24T10:38:28.788392",
     "exception": false,
     "start_time": "2024-01-24T10:38:28.114535",
     "status": "completed"
    },
    "tags": []
   },
   "outputs": [
    {
     "name": "stdout",
     "output_type": "stream",
     "text": [
      "Setup Complete\n"
     ]
    }
   ],
   "source": [
    "from learntools.core import binder\n",
    "binder.bind(globals())\n",
    "from learntools.data_cleaning.ex5 import *\n",
    "print(\"Setup Complete\")"
   ]
  },
  {
   "cell_type": "markdown",
   "id": "29d65668",
   "metadata": {
    "papermill": {
     "duration": 0.006777,
     "end_time": "2024-01-24T10:38:28.802497",
     "exception": false,
     "start_time": "2024-01-24T10:38:28.795720",
     "status": "completed"
    },
    "tags": []
   },
   "source": [
    "# Get our environment set up\n",
    "\n",
    "The first thing we'll need to do is load in the libraries and dataset we'll be using.  We use the same dataset from the tutorial."
   ]
  },
  {
   "cell_type": "code",
   "execution_count": 2,
   "id": "944ab21d",
   "metadata": {
    "execution": {
     "iopub.execute_input": "2024-01-24T10:38:28.820293Z",
     "iopub.status.busy": "2024-01-24T10:38:28.819571Z",
     "iopub.status.idle": "2024-01-24T10:38:28.837056Z",
     "shell.execute_reply": "2024-01-24T10:38:28.835926Z"
    },
    "papermill": {
     "duration": 0.029452,
     "end_time": "2024-01-24T10:38:28.840128",
     "exception": false,
     "start_time": "2024-01-24T10:38:28.810676",
     "status": "completed"
    },
    "tags": []
   },
   "outputs": [],
   "source": [
    "# modules we'll use\n",
    "import pandas as pd\n",
    "import numpy as np\n",
    "\n",
    "# helpful modules\n",
    "import fuzzywuzzy\n",
    "from fuzzywuzzy import process\n",
    "import charset_normalizer\n",
    "\n",
    "# read in all our data\n",
    "professors = pd.read_csv(\"../input/pakistan-intellectual-capital/pakistan_intellectual_capital.csv\")\n",
    "\n",
    "# set seed for reproducibility\n",
    "np.random.seed(0)"
   ]
  },
  {
   "cell_type": "markdown",
   "id": "405e8a13",
   "metadata": {
    "papermill": {
     "duration": 0.00689,
     "end_time": "2024-01-24T10:38:28.854189",
     "exception": false,
     "start_time": "2024-01-24T10:38:28.847299",
     "status": "completed"
    },
    "tags": []
   },
   "source": [
    "Next, we'll redo all of the work that we did in the tutorial."
   ]
  },
  {
   "cell_type": "code",
   "execution_count": 3,
   "id": "3f00bb8e",
   "metadata": {
    "execution": {
     "iopub.execute_input": "2024-01-24T10:38:28.871386Z",
     "iopub.status.busy": "2024-01-24T10:38:28.869948Z",
     "iopub.status.idle": "2024-01-24T10:38:28.888422Z",
     "shell.execute_reply": "2024-01-24T10:38:28.887486Z"
    },
    "papermill": {
     "duration": 0.029818,
     "end_time": "2024-01-24T10:38:28.891225",
     "exception": false,
     "start_time": "2024-01-24T10:38:28.861407",
     "status": "completed"
    },
    "tags": []
   },
   "outputs": [
    {
     "name": "stdout",
     "output_type": "stream",
     "text": [
      "All done!\n"
     ]
    }
   ],
   "source": [
    "# convert to lower case\n",
    "professors['Country'] = professors['Country'].str.lower()\n",
    "# remove trailing white spaces\n",
    "professors['Country'] = professors['Country'].str.strip()\n",
    "\n",
    "# get the top 10 closest matches to \"south korea\"\n",
    "countries = professors['Country'].unique()\n",
    "matches = fuzzywuzzy.process.extract(\"south korea\", countries, limit=10, scorer=fuzzywuzzy.fuzz.token_sort_ratio)\n",
    "\n",
    "def replace_matches_in_column(df, column, string_to_match, min_ratio = 47):\n",
    "    # get a list of unique strings\n",
    "    strings = df[column].unique()\n",
    "    \n",
    "    # get the top 10 closest matches to our input string\n",
    "    matches = fuzzywuzzy.process.extract(string_to_match, strings, \n",
    "                                         limit=10, scorer=fuzzywuzzy.fuzz.token_sort_ratio)\n",
    "\n",
    "    # only get matches with a ratio > 90\n",
    "    close_matches = [matches[0] for matches in matches if matches[1] >= min_ratio]\n",
    "\n",
    "    # get the rows of all the close matches in our dataframe\n",
    "    rows_with_matches = df[column].isin(close_matches)\n",
    "\n",
    "    # replace all rows with close matches with the input matches \n",
    "    df.loc[rows_with_matches, column] = string_to_match\n",
    "    \n",
    "    # let us know the function's done\n",
    "    print(\"All done!\")\n",
    "    \n",
    "replace_matches_in_column(df=professors, column='Country', string_to_match=\"south korea\")\n",
    "countries = professors['Country'].unique()"
   ]
  },
  {
   "cell_type": "markdown",
   "id": "adaf2a64",
   "metadata": {
    "papermill": {
     "duration": 0.007295,
     "end_time": "2024-01-24T10:38:28.905725",
     "exception": false,
     "start_time": "2024-01-24T10:38:28.898430",
     "status": "completed"
    },
    "tags": []
   },
   "source": [
    "# 1) Examine another column\n",
    "\n",
    "Write code below to take a look at all the unique values in the \"Graduated from\" column."
   ]
  },
  {
   "cell_type": "code",
   "execution_count": 4,
   "id": "7fb21a96",
   "metadata": {
    "execution": {
     "iopub.execute_input": "2024-01-24T10:38:28.922227Z",
     "iopub.status.busy": "2024-01-24T10:38:28.921787Z",
     "iopub.status.idle": "2024-01-24T10:38:28.926950Z",
     "shell.execute_reply": "2024-01-24T10:38:28.926080Z"
    },
    "papermill": {
     "duration": 0.016472,
     "end_time": "2024-01-24T10:38:28.929442",
     "exception": false,
     "start_time": "2024-01-24T10:38:28.912970",
     "status": "completed"
    },
    "tags": []
   },
   "outputs": [],
   "source": [
    "# TODO: Your code here\n",
    "University = professors[\"Graduated from\"].unique()"
   ]
  },
  {
   "cell_type": "markdown",
   "id": "543a171c",
   "metadata": {
    "papermill": {
     "duration": 0.006844,
     "end_time": "2024-01-24T10:38:28.943372",
     "exception": false,
     "start_time": "2024-01-24T10:38:28.936528",
     "status": "completed"
    },
    "tags": []
   },
   "source": [
    "Do you notice any inconsistencies in the data?  Can any of the inconsistencies in the data be fixed by removing white spaces at the beginning and end of cells?\n",
    "\n",
    "Once you have answered these questions, run the code cell below to get credit for your work."
   ]
  },
  {
   "cell_type": "code",
   "execution_count": 5,
   "id": "3c9b50b7",
   "metadata": {
    "execution": {
     "iopub.execute_input": "2024-01-24T10:38:28.960416Z",
     "iopub.status.busy": "2024-01-24T10:38:28.959976Z",
     "iopub.status.idle": "2024-01-24T10:38:28.971543Z",
     "shell.execute_reply": "2024-01-24T10:38:28.970192Z"
    },
    "papermill": {
     "duration": 0.023409,
     "end_time": "2024-01-24T10:38:28.974463",
     "exception": false,
     "start_time": "2024-01-24T10:38:28.951054",
     "status": "completed"
    },
    "tags": []
   },
   "outputs": [
    {
     "data": {
      "application/javascript": [
       "parent.postMessage({\"jupyterEvent\": \"custom.exercise_interaction\", \"data\": {\"outcomeType\": 1, \"valueTowardsCompletion\": 0.3333333333333333, \"interactionType\": 1, \"questionType\": 4, \"questionId\": \"1_ExamineProvince\", \"learnToolsVersion\": \"0.3.4\", \"failureMessage\": \"\", \"exceptionClass\": \"\", \"trace\": \"\"}}, \"*\")"
      ],
      "text/plain": [
       "<IPython.core.display.Javascript object>"
      ]
     },
     "metadata": {},
     "output_type": "display_data"
    },
    {
     "data": {
      "text/markdown": [
       "<span style=\"color:#33cc33\">Correct:</span> \n",
       "\n",
       "There are inconsistencies that can be fixed by removing white spaces at the beginning and end of cells.  For instance, \"University of Central Florida\" and \" University of Central Florida\" both appear in the column."
      ],
      "text/plain": [
       "Correct: \n",
       "\n",
       "There are inconsistencies that can be fixed by removing white spaces at the beginning and end of cells.  For instance, \"University of Central Florida\" and \" University of Central Florida\" both appear in the column."
      ]
     },
     "metadata": {},
     "output_type": "display_data"
    }
   ],
   "source": [
    "# Check your answer (Run this code cell to receive credit!)\n",
    "q1.check()"
   ]
  },
  {
   "cell_type": "code",
   "execution_count": 6,
   "id": "1d02e442",
   "metadata": {
    "execution": {
     "iopub.execute_input": "2024-01-24T10:38:28.992767Z",
     "iopub.status.busy": "2024-01-24T10:38:28.992026Z",
     "iopub.status.idle": "2024-01-24T10:38:28.997034Z",
     "shell.execute_reply": "2024-01-24T10:38:28.995734Z"
    },
    "papermill": {
     "duration": 0.017684,
     "end_time": "2024-01-24T10:38:28.999798",
     "exception": false,
     "start_time": "2024-01-24T10:38:28.982114",
     "status": "completed"
    },
    "tags": []
   },
   "outputs": [],
   "source": [
    "# Line below will give you a hint\n",
    "#q1.hint()"
   ]
  },
  {
   "cell_type": "markdown",
   "id": "7ce4e4c4",
   "metadata": {
    "papermill": {
     "duration": 0.007192,
     "end_time": "2024-01-24T10:38:29.014734",
     "exception": false,
     "start_time": "2024-01-24T10:38:29.007542",
     "status": "completed"
    },
    "tags": []
   },
   "source": [
    "# 2) Do some text pre-processing\n",
    "\n",
    "Convert every entry in the \"Graduated from\" column in the `professors` DataFrame to remove white spaces at the beginning and end of cells."
   ]
  },
  {
   "cell_type": "code",
   "execution_count": 7,
   "id": "bd8a3482",
   "metadata": {
    "execution": {
     "iopub.execute_input": "2024-01-24T10:38:29.032490Z",
     "iopub.status.busy": "2024-01-24T10:38:29.032047Z",
     "iopub.status.idle": "2024-01-24T10:38:29.049010Z",
     "shell.execute_reply": "2024-01-24T10:38:29.047407Z"
    },
    "papermill": {
     "duration": 0.029554,
     "end_time": "2024-01-24T10:38:29.051805",
     "exception": false,
     "start_time": "2024-01-24T10:38:29.022251",
     "status": "completed"
    },
    "tags": []
   },
   "outputs": [
    {
     "data": {
      "application/javascript": [
       "parent.postMessage({\"jupyterEvent\": \"custom.exercise_interaction\", \"data\": {\"outcomeType\": 1, \"valueTowardsCompletion\": 0.3333333333333333, \"interactionType\": 1, \"questionType\": 1, \"questionId\": \"2_TextProcessing\", \"learnToolsVersion\": \"0.3.4\", \"failureMessage\": \"\", \"exceptionClass\": \"\", \"trace\": \"\"}}, \"*\")"
      ],
      "text/plain": [
       "<IPython.core.display.Javascript object>"
      ]
     },
     "metadata": {},
     "output_type": "display_data"
    },
    {
     "data": {
      "text/markdown": [
       "<span style=\"color:#33cc33\">Correct</span>"
      ],
      "text/plain": [
       "Correct"
      ]
     },
     "metadata": {},
     "output_type": "display_data"
    }
   ],
   "source": [
    "# TODO: Your code here\n",
    "professors[\"Graduated from\"] = professors[\"Graduated from\"].str.strip()\n",
    "\n",
    "# Check your answer\n",
    "q2.check()"
   ]
  },
  {
   "cell_type": "code",
   "execution_count": 8,
   "id": "f408524a",
   "metadata": {
    "execution": {
     "iopub.execute_input": "2024-01-24T10:38:29.070235Z",
     "iopub.status.busy": "2024-01-24T10:38:29.069444Z",
     "iopub.status.idle": "2024-01-24T10:38:29.073840Z",
     "shell.execute_reply": "2024-01-24T10:38:29.072971Z"
    },
    "papermill": {
     "duration": 0.016352,
     "end_time": "2024-01-24T10:38:29.076405",
     "exception": false,
     "start_time": "2024-01-24T10:38:29.060053",
     "status": "completed"
    },
    "tags": []
   },
   "outputs": [],
   "source": [
    "# Lines below will give you a hint or solution code\n",
    "#q2.hint()\n",
    "# q2.solution()"
   ]
  },
  {
   "cell_type": "markdown",
   "id": "d55ac4aa",
   "metadata": {
    "papermill": {
     "duration": 0.008003,
     "end_time": "2024-01-24T10:38:29.092454",
     "exception": false,
     "start_time": "2024-01-24T10:38:29.084451",
     "status": "completed"
    },
    "tags": []
   },
   "source": [
    "# 3) Continue working with countries\n",
    "\n",
    "In the tutorial, we focused on cleaning up inconsistencies in the \"Country\" column.  Run the code cell below to view the list of unique values that we ended with."
   ]
  },
  {
   "cell_type": "code",
   "execution_count": 9,
   "id": "9ca970bc",
   "metadata": {
    "execution": {
     "iopub.execute_input": "2024-01-24T10:38:29.111066Z",
     "iopub.status.busy": "2024-01-24T10:38:29.110319Z",
     "iopub.status.idle": "2024-01-24T10:38:29.118518Z",
     "shell.execute_reply": "2024-01-24T10:38:29.117315Z"
    },
    "papermill": {
     "duration": 0.020977,
     "end_time": "2024-01-24T10:38:29.121406",
     "exception": false,
     "start_time": "2024-01-24T10:38:29.100429",
     "status": "completed"
    },
    "tags": []
   },
   "outputs": [
    {
     "data": {
      "text/plain": [
       "array(['australia', 'austria', 'canada', 'china', 'finland', 'france',\n",
       "       'germany', 'greece', 'hongkong', 'ireland', 'italy', 'japan',\n",
       "       'macau', 'malaysia', 'mauritius', 'netherland', 'new zealand',\n",
       "       'norway', 'pakistan', 'portugal', 'russian federation',\n",
       "       'saudi arabia', 'scotland', 'singapore', 'south korea', 'spain',\n",
       "       'sweden', 'thailand', 'turkey', 'uk', 'urbana', 'usa', 'usofa'],\n",
       "      dtype=object)"
      ]
     },
     "execution_count": 9,
     "metadata": {},
     "output_type": "execute_result"
    }
   ],
   "source": [
    "# get all the unique values in the 'City' column\n",
    "countries = professors['Country'].unique()\n",
    "\n",
    "# sort them alphabetically and then take a closer look\n",
    "countries.sort()\n",
    "countries"
   ]
  },
  {
   "cell_type": "markdown",
   "id": "824727cb",
   "metadata": {
    "papermill": {
     "duration": 0.0087,
     "end_time": "2024-01-24T10:38:29.138479",
     "exception": false,
     "start_time": "2024-01-24T10:38:29.129779",
     "status": "completed"
    },
    "tags": []
   },
   "source": [
    "Take another look at the \"Country\" column and see if there's any more data cleaning we need to do.\n",
    "\n",
    "It looks like 'usa' and 'usofa' should be the same country.  Correct the \"Country\" column in the dataframe to replace 'usofa' with 'usa'.\n",
    "\n",
    "**Use the most recent version of the DataFrame (with the whitespaces at the beginning and end of cells removed) from question 2.**"
   ]
  },
  {
   "cell_type": "code",
   "execution_count": 10,
   "id": "29192880",
   "metadata": {
    "execution": {
     "iopub.execute_input": "2024-01-24T10:38:29.158779Z",
     "iopub.status.busy": "2024-01-24T10:38:29.157483Z",
     "iopub.status.idle": "2024-01-24T10:38:29.174267Z",
     "shell.execute_reply": "2024-01-24T10:38:29.172860Z"
    },
    "papermill": {
     "duration": 0.030144,
     "end_time": "2024-01-24T10:38:29.177189",
     "exception": false,
     "start_time": "2024-01-24T10:38:29.147045",
     "status": "completed"
    },
    "tags": []
   },
   "outputs": [
    {
     "name": "stdout",
     "output_type": "stream",
     "text": [
      "All done!\n"
     ]
    },
    {
     "data": {
      "application/javascript": [
       "parent.postMessage({\"jupyterEvent\": \"custom.exercise_interaction\", \"data\": {\"outcomeType\": 1, \"valueTowardsCompletion\": 0.3333333333333333, \"interactionType\": 1, \"questionType\": 1, \"questionId\": \"3_WorkingWithCities\", \"learnToolsVersion\": \"0.3.4\", \"failureMessage\": \"\", \"exceptionClass\": \"\", \"trace\": \"\"}}, \"*\")"
      ],
      "text/plain": [
       "<IPython.core.display.Javascript object>"
      ]
     },
     "metadata": {},
     "output_type": "display_data"
    },
    {
     "data": {
      "text/markdown": [
       "<span style=\"color:#33cc33\">Correct</span>"
      ],
      "text/plain": [
       "Correct"
      ]
     },
     "metadata": {},
     "output_type": "display_data"
    }
   ],
   "source": [
    "# TODO: Your code here!\n",
    "matches = fuzzywuzzy.process.extract(\"usa\", countries, limit=10, scorer=fuzzywuzzy.fuzz.token_sort_ratio)\n",
    "replace_matches_in_column(df=professors, column=\"Country\", string_to_match=\"usa\", min_ratio=70)\n",
    "\n",
    "# Check your answer\n",
    "q3.check()"
   ]
  },
  {
   "cell_type": "code",
   "execution_count": 11,
   "id": "6e1f4e9e",
   "metadata": {
    "execution": {
     "iopub.execute_input": "2024-01-24T10:38:29.196772Z",
     "iopub.status.busy": "2024-01-24T10:38:29.196345Z",
     "iopub.status.idle": "2024-01-24T10:38:29.201122Z",
     "shell.execute_reply": "2024-01-24T10:38:29.199981Z"
    },
    "papermill": {
     "duration": 0.017694,
     "end_time": "2024-01-24T10:38:29.203710",
     "exception": false,
     "start_time": "2024-01-24T10:38:29.186016",
     "status": "completed"
    },
    "tags": []
   },
   "outputs": [],
   "source": [
    "# Lines below will give you a hint or solution code\n",
    "#q3.hint()\n",
    "# q3.solution()"
   ]
  },
  {
   "cell_type": "markdown",
   "id": "c2911a1c",
   "metadata": {
    "papermill": {
     "duration": 0.008541,
     "end_time": "2024-01-24T10:38:29.220773",
     "exception": false,
     "start_time": "2024-01-24T10:38:29.212232",
     "status": "completed"
    },
    "tags": []
   },
   "source": [
    "# Congratulations!\n",
    "\n",
    "Congratulations for completing the **Data Cleaning** course on Kaggle Learn!\n",
    "\n",
    "To practice your new skills, you're encouraged to download and investigate some of [Kaggle's Datasets](https://www.kaggle.com/datasets)."
   ]
  },
  {
   "cell_type": "markdown",
   "id": "28814c35",
   "metadata": {
    "papermill": {
     "duration": 0.008502,
     "end_time": "2024-01-24T10:38:29.239367",
     "exception": false,
     "start_time": "2024-01-24T10:38:29.230865",
     "status": "completed"
    },
    "tags": []
   },
   "source": [
    "---\n",
    "\n",
    "\n",
    "\n",
    "\n",
    "*Have questions or comments? Visit the [course discussion forum](https://www.kaggle.com/learn/data-cleaning/discussion) to chat with other learners.*"
   ]
  }
 ],
 "metadata": {
  "kaggle": {
   "accelerator": "none",
   "dataSources": [
    {
     "datasetId": 819513,
     "sourceId": 1402182,
     "sourceType": "datasetVersion"
    }
   ],
   "isGpuEnabled": false,
   "isInternetEnabled": false,
   "language": "python",
   "sourceType": "notebook"
  },
  "kernelspec": {
   "display_name": "Python 3",
   "language": "python",
   "name": "python3"
  },
  "language_info": {
   "codemirror_mode": {
    "name": "ipython",
    "version": 3
   },
   "file_extension": ".py",
   "mimetype": "text/x-python",
   "name": "python",
   "nbconvert_exporter": "python",
   "pygments_lexer": "ipython3",
   "version": "3.10.12"
  },
  "papermill": {
   "default_parameters": {},
   "duration": 5.263131,
   "end_time": "2024-01-24T10:38:29.769384",
   "environment_variables": {},
   "exception": null,
   "input_path": "__notebook__.ipynb",
   "output_path": "__notebook__.ipynb",
   "parameters": {},
   "start_time": "2024-01-24T10:38:24.506253",
   "version": "2.4.0"
  }
 },
 "nbformat": 4,
 "nbformat_minor": 5
}
