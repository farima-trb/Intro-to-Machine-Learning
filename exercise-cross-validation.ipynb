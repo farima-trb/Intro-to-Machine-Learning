{
 "cells": [
  {
   "cell_type": "markdown",
   "id": "9d2d9fe5",
   "metadata": {
    "papermill": {
     "duration": 0.008314,
     "end_time": "2024-01-14T19:14:04.249288",
     "exception": false,
     "start_time": "2024-01-14T19:14:04.240974",
     "status": "completed"
    },
    "tags": []
   },
   "source": [
    "**This notebook is an exercise in the [Intermediate Machine Learning](https://www.kaggle.com/learn/intermediate-machine-learning) course.  You can reference the tutorial at [this link](https://www.kaggle.com/alexisbcook/cross-validation).**\n",
    "\n",
    "---\n"
   ]
  },
  {
   "cell_type": "markdown",
   "id": "23b68fde",
   "metadata": {
    "papermill": {
     "duration": 0.007017,
     "end_time": "2024-01-14T19:14:04.263927",
     "exception": false,
     "start_time": "2024-01-14T19:14:04.256910",
     "status": "completed"
    },
    "tags": []
   },
   "source": [
    "In this exercise, you will leverage what you've learned to tune a machine learning model with **cross-validation**.\n",
    "\n",
    "# Setup\n",
    "\n",
    "The questions below will give you feedback on your work. Run the following cell to set up the feedback system."
   ]
  },
  {
   "cell_type": "code",
   "execution_count": 1,
   "id": "00f65fe3",
   "metadata": {
    "execution": {
     "iopub.execute_input": "2024-01-14T19:14:04.281534Z",
     "iopub.status.busy": "2024-01-14T19:14:04.280592Z",
     "iopub.status.idle": "2024-01-14T19:14:04.801501Z",
     "shell.execute_reply": "2024-01-14T19:14:04.800272Z"
    },
    "papermill": {
     "duration": 0.532782,
     "end_time": "2024-01-14T19:14:04.804034",
     "exception": false,
     "start_time": "2024-01-14T19:14:04.271252",
     "status": "completed"
    },
    "tags": []
   },
   "outputs": [
    {
     "name": "stdout",
     "output_type": "stream",
     "text": [
      "Setup Complete\n"
     ]
    }
   ],
   "source": [
    "# Set up code checking\n",
    "import os\n",
    "if not os.path.exists(\"../input/train.csv\"):\n",
    "    os.symlink(\"../input/home-data-for-ml-course/train.csv\", \"../input/train.csv\")  \n",
    "    os.symlink(\"../input/home-data-for-ml-course/test.csv\", \"../input/test.csv\") \n",
    "from learntools.core import binder\n",
    "binder.bind(globals())\n",
    "from learntools.ml_intermediate.ex5 import *\n",
    "print(\"Setup Complete\")"
   ]
  },
  {
   "cell_type": "markdown",
   "id": "a4bd0931",
   "metadata": {
    "papermill": {
     "duration": 0.007247,
     "end_time": "2024-01-14T19:14:04.818793",
     "exception": false,
     "start_time": "2024-01-14T19:14:04.811546",
     "status": "completed"
    },
    "tags": []
   },
   "source": [
    "You will work with the [Housing Prices Competition for Kaggle Learn Users](https://www.kaggle.com/c/home-data-for-ml-course) from the previous exercise. \n",
    "\n",
    "![Ames Housing dataset image](https://storage.googleapis.com/kaggle-media/learn/images/lTJVG4e.png)\n",
    "\n",
    "Run the next code cell without changes to load the training and test data in `X` and `X_test`.  For simplicity, we drop categorical variables."
   ]
  },
  {
   "cell_type": "code",
   "execution_count": 2,
   "id": "f418ccc7",
   "metadata": {
    "execution": {
     "iopub.execute_input": "2024-01-14T19:14:04.836232Z",
     "iopub.status.busy": "2024-01-14T19:14:04.835174Z",
     "iopub.status.idle": "2024-01-14T19:14:06.275732Z",
     "shell.execute_reply": "2024-01-14T19:14:06.274499Z"
    },
    "papermill": {
     "duration": 1.452638,
     "end_time": "2024-01-14T19:14:06.278692",
     "exception": false,
     "start_time": "2024-01-14T19:14:04.826054",
     "status": "completed"
    },
    "tags": []
   },
   "outputs": [],
   "source": [
    "import pandas as pd\n",
    "from sklearn.model_selection import train_test_split\n",
    "\n",
    "# Read the data\n",
    "train_data = pd.read_csv('../input/train.csv', index_col='Id')\n",
    "test_data = pd.read_csv('../input/test.csv', index_col='Id')\n",
    "\n",
    "# Remove rows with missing target, separate target from predictors\n",
    "train_data.dropna(axis=0, subset=['SalePrice'], inplace=True)\n",
    "y = train_data.SalePrice              \n",
    "train_data.drop(['SalePrice'], axis=1, inplace=True)\n",
    "\n",
    "# Select numeric columns only\n",
    "numeric_cols = [cname for cname in train_data.columns if train_data[cname].dtype in ['int64', 'float64']]\n",
    "X = train_data[numeric_cols].copy()\n",
    "X_test = test_data[numeric_cols].copy()"
   ]
  },
  {
   "cell_type": "markdown",
   "id": "9ac6c866",
   "metadata": {
    "papermill": {
     "duration": 0.007444,
     "end_time": "2024-01-14T19:14:06.294208",
     "exception": false,
     "start_time": "2024-01-14T19:14:06.286764",
     "status": "completed"
    },
    "tags": []
   },
   "source": [
    "Use the next code cell to print the first several rows of the data."
   ]
  },
  {
   "cell_type": "code",
   "execution_count": 3,
   "id": "a678906c",
   "metadata": {
    "execution": {
     "iopub.execute_input": "2024-01-14T19:14:06.311757Z",
     "iopub.status.busy": "2024-01-14T19:14:06.311277Z",
     "iopub.status.idle": "2024-01-14T19:14:06.339573Z",
     "shell.execute_reply": "2024-01-14T19:14:06.338369Z"
    },
    "papermill": {
     "duration": 0.039773,
     "end_time": "2024-01-14T19:14:06.342045",
     "exception": false,
     "start_time": "2024-01-14T19:14:06.302272",
     "status": "completed"
    },
    "tags": []
   },
   "outputs": [
    {
     "data": {
      "text/html": [
       "<div>\n",
       "<style scoped>\n",
       "    .dataframe tbody tr th:only-of-type {\n",
       "        vertical-align: middle;\n",
       "    }\n",
       "\n",
       "    .dataframe tbody tr th {\n",
       "        vertical-align: top;\n",
       "    }\n",
       "\n",
       "    .dataframe thead th {\n",
       "        text-align: right;\n",
       "    }\n",
       "</style>\n",
       "<table border=\"1\" class=\"dataframe\">\n",
       "  <thead>\n",
       "    <tr style=\"text-align: right;\">\n",
       "      <th></th>\n",
       "      <th>MSSubClass</th>\n",
       "      <th>LotFrontage</th>\n",
       "      <th>LotArea</th>\n",
       "      <th>OverallQual</th>\n",
       "      <th>OverallCond</th>\n",
       "      <th>YearBuilt</th>\n",
       "      <th>YearRemodAdd</th>\n",
       "      <th>MasVnrArea</th>\n",
       "      <th>BsmtFinSF1</th>\n",
       "      <th>BsmtFinSF2</th>\n",
       "      <th>...</th>\n",
       "      <th>GarageArea</th>\n",
       "      <th>WoodDeckSF</th>\n",
       "      <th>OpenPorchSF</th>\n",
       "      <th>EnclosedPorch</th>\n",
       "      <th>3SsnPorch</th>\n",
       "      <th>ScreenPorch</th>\n",
       "      <th>PoolArea</th>\n",
       "      <th>MiscVal</th>\n",
       "      <th>MoSold</th>\n",
       "      <th>YrSold</th>\n",
       "    </tr>\n",
       "    <tr>\n",
       "      <th>Id</th>\n",
       "      <th></th>\n",
       "      <th></th>\n",
       "      <th></th>\n",
       "      <th></th>\n",
       "      <th></th>\n",
       "      <th></th>\n",
       "      <th></th>\n",
       "      <th></th>\n",
       "      <th></th>\n",
       "      <th></th>\n",
       "      <th></th>\n",
       "      <th></th>\n",
       "      <th></th>\n",
       "      <th></th>\n",
       "      <th></th>\n",
       "      <th></th>\n",
       "      <th></th>\n",
       "      <th></th>\n",
       "      <th></th>\n",
       "      <th></th>\n",
       "      <th></th>\n",
       "    </tr>\n",
       "  </thead>\n",
       "  <tbody>\n",
       "    <tr>\n",
       "      <th>1</th>\n",
       "      <td>60</td>\n",
       "      <td>65.0</td>\n",
       "      <td>8450</td>\n",
       "      <td>7</td>\n",
       "      <td>5</td>\n",
       "      <td>2003</td>\n",
       "      <td>2003</td>\n",
       "      <td>196.0</td>\n",
       "      <td>706</td>\n",
       "      <td>0</td>\n",
       "      <td>...</td>\n",
       "      <td>548</td>\n",
       "      <td>0</td>\n",
       "      <td>61</td>\n",
       "      <td>0</td>\n",
       "      <td>0</td>\n",
       "      <td>0</td>\n",
       "      <td>0</td>\n",
       "      <td>0</td>\n",
       "      <td>2</td>\n",
       "      <td>2008</td>\n",
       "    </tr>\n",
       "    <tr>\n",
       "      <th>2</th>\n",
       "      <td>20</td>\n",
       "      <td>80.0</td>\n",
       "      <td>9600</td>\n",
       "      <td>6</td>\n",
       "      <td>8</td>\n",
       "      <td>1976</td>\n",
       "      <td>1976</td>\n",
       "      <td>0.0</td>\n",
       "      <td>978</td>\n",
       "      <td>0</td>\n",
       "      <td>...</td>\n",
       "      <td>460</td>\n",
       "      <td>298</td>\n",
       "      <td>0</td>\n",
       "      <td>0</td>\n",
       "      <td>0</td>\n",
       "      <td>0</td>\n",
       "      <td>0</td>\n",
       "      <td>0</td>\n",
       "      <td>5</td>\n",
       "      <td>2007</td>\n",
       "    </tr>\n",
       "    <tr>\n",
       "      <th>3</th>\n",
       "      <td>60</td>\n",
       "      <td>68.0</td>\n",
       "      <td>11250</td>\n",
       "      <td>7</td>\n",
       "      <td>5</td>\n",
       "      <td>2001</td>\n",
       "      <td>2002</td>\n",
       "      <td>162.0</td>\n",
       "      <td>486</td>\n",
       "      <td>0</td>\n",
       "      <td>...</td>\n",
       "      <td>608</td>\n",
       "      <td>0</td>\n",
       "      <td>42</td>\n",
       "      <td>0</td>\n",
       "      <td>0</td>\n",
       "      <td>0</td>\n",
       "      <td>0</td>\n",
       "      <td>0</td>\n",
       "      <td>9</td>\n",
       "      <td>2008</td>\n",
       "    </tr>\n",
       "    <tr>\n",
       "      <th>4</th>\n",
       "      <td>70</td>\n",
       "      <td>60.0</td>\n",
       "      <td>9550</td>\n",
       "      <td>7</td>\n",
       "      <td>5</td>\n",
       "      <td>1915</td>\n",
       "      <td>1970</td>\n",
       "      <td>0.0</td>\n",
       "      <td>216</td>\n",
       "      <td>0</td>\n",
       "      <td>...</td>\n",
       "      <td>642</td>\n",
       "      <td>0</td>\n",
       "      <td>35</td>\n",
       "      <td>272</td>\n",
       "      <td>0</td>\n",
       "      <td>0</td>\n",
       "      <td>0</td>\n",
       "      <td>0</td>\n",
       "      <td>2</td>\n",
       "      <td>2006</td>\n",
       "    </tr>\n",
       "    <tr>\n",
       "      <th>5</th>\n",
       "      <td>60</td>\n",
       "      <td>84.0</td>\n",
       "      <td>14260</td>\n",
       "      <td>8</td>\n",
       "      <td>5</td>\n",
       "      <td>2000</td>\n",
       "      <td>2000</td>\n",
       "      <td>350.0</td>\n",
       "      <td>655</td>\n",
       "      <td>0</td>\n",
       "      <td>...</td>\n",
       "      <td>836</td>\n",
       "      <td>192</td>\n",
       "      <td>84</td>\n",
       "      <td>0</td>\n",
       "      <td>0</td>\n",
       "      <td>0</td>\n",
       "      <td>0</td>\n",
       "      <td>0</td>\n",
       "      <td>12</td>\n",
       "      <td>2008</td>\n",
       "    </tr>\n",
       "  </tbody>\n",
       "</table>\n",
       "<p>5 rows × 36 columns</p>\n",
       "</div>"
      ],
      "text/plain": [
       "    MSSubClass  LotFrontage  LotArea  OverallQual  OverallCond  YearBuilt  \\\n",
       "Id                                                                          \n",
       "1           60         65.0     8450            7            5       2003   \n",
       "2           20         80.0     9600            6            8       1976   \n",
       "3           60         68.0    11250            7            5       2001   \n",
       "4           70         60.0     9550            7            5       1915   \n",
       "5           60         84.0    14260            8            5       2000   \n",
       "\n",
       "    YearRemodAdd  MasVnrArea  BsmtFinSF1  BsmtFinSF2  ...  GarageArea  \\\n",
       "Id                                                    ...               \n",
       "1           2003       196.0         706           0  ...         548   \n",
       "2           1976         0.0         978           0  ...         460   \n",
       "3           2002       162.0         486           0  ...         608   \n",
       "4           1970         0.0         216           0  ...         642   \n",
       "5           2000       350.0         655           0  ...         836   \n",
       "\n",
       "    WoodDeckSF  OpenPorchSF  EnclosedPorch  3SsnPorch  ScreenPorch  PoolArea  \\\n",
       "Id                                                                             \n",
       "1            0           61              0          0            0         0   \n",
       "2          298            0              0          0            0         0   \n",
       "3            0           42              0          0            0         0   \n",
       "4            0           35            272          0            0         0   \n",
       "5          192           84              0          0            0         0   \n",
       "\n",
       "    MiscVal  MoSold  YrSold  \n",
       "Id                           \n",
       "1         0       2    2008  \n",
       "2         0       5    2007  \n",
       "3         0       9    2008  \n",
       "4         0       2    2006  \n",
       "5         0      12    2008  \n",
       "\n",
       "[5 rows x 36 columns]"
      ]
     },
     "execution_count": 3,
     "metadata": {},
     "output_type": "execute_result"
    }
   ],
   "source": [
    "X.head()"
   ]
  },
  {
   "cell_type": "markdown",
   "id": "dbd1ebfb",
   "metadata": {
    "papermill": {
     "duration": 0.007771,
     "end_time": "2024-01-14T19:14:06.357897",
     "exception": false,
     "start_time": "2024-01-14T19:14:06.350126",
     "status": "completed"
    },
    "tags": []
   },
   "source": [
    "So far, you've learned how to build pipelines with scikit-learn.  For instance, the pipeline below will use [`SimpleImputer()`](https://scikit-learn.org/stable/modules/generated/sklearn.impute.SimpleImputer.html) to replace missing values in the data, before using [`RandomForestRegressor()`](https://scikit-learn.org/stable/modules/generated/sklearn.ensemble.RandomForestRegressor.html) to train a random forest model to make predictions.  We set the number of trees in the random forest model with the `n_estimators` parameter, and setting `random_state` ensures reproducibility."
   ]
  },
  {
   "cell_type": "code",
   "execution_count": 4,
   "id": "7c10a95a",
   "metadata": {
    "execution": {
     "iopub.execute_input": "2024-01-14T19:14:06.375951Z",
     "iopub.status.busy": "2024-01-14T19:14:06.375152Z",
     "iopub.status.idle": "2024-01-14T19:14:06.786464Z",
     "shell.execute_reply": "2024-01-14T19:14:06.785063Z"
    },
    "papermill": {
     "duration": 0.423935,
     "end_time": "2024-01-14T19:14:06.789635",
     "exception": false,
     "start_time": "2024-01-14T19:14:06.365700",
     "status": "completed"
    },
    "tags": []
   },
   "outputs": [],
   "source": [
    "from sklearn.ensemble import RandomForestRegressor\n",
    "from sklearn.pipeline import Pipeline\n",
    "from sklearn.impute import SimpleImputer\n",
    "\n",
    "my_pipeline = Pipeline(steps=[\n",
    "    ('preprocessor', SimpleImputer()),\n",
    "    ('model', RandomForestRegressor(n_estimators=50, random_state=0))\n",
    "])"
   ]
  },
  {
   "cell_type": "markdown",
   "id": "ec4adf09",
   "metadata": {
    "papermill": {
     "duration": 0.007716,
     "end_time": "2024-01-14T19:14:06.805814",
     "exception": false,
     "start_time": "2024-01-14T19:14:06.798098",
     "status": "completed"
    },
    "tags": []
   },
   "source": [
    "You have also learned how to use pipelines in cross-validation.  The code below uses the [`cross_val_score()`](https://scikit-learn.org/stable/modules/generated/sklearn.model_selection.cross_val_score.html) function to obtain the mean absolute error (MAE), averaged across five different folds.  Recall we set the number of folds with the `cv` parameter."
   ]
  },
  {
   "cell_type": "code",
   "execution_count": 5,
   "id": "ef75b23d",
   "metadata": {
    "execution": {
     "iopub.execute_input": "2024-01-14T19:14:06.824533Z",
     "iopub.status.busy": "2024-01-14T19:14:06.823296Z",
     "iopub.status.idle": "2024-01-14T19:14:10.508349Z",
     "shell.execute_reply": "2024-01-14T19:14:10.507191Z"
    },
    "papermill": {
     "duration": 3.697292,
     "end_time": "2024-01-14T19:14:10.511028",
     "exception": false,
     "start_time": "2024-01-14T19:14:06.813736",
     "status": "completed"
    },
    "tags": []
   },
   "outputs": [
    {
     "name": "stdout",
     "output_type": "stream",
     "text": [
      "Average MAE score: 18276.410356164386\n"
     ]
    }
   ],
   "source": [
    "from sklearn.model_selection import cross_val_score\n",
    "\n",
    "# Multiply by -1 since sklearn calculates *negative* MAE\n",
    "scores = -1 * cross_val_score(my_pipeline, X, y,\n",
    "                              cv=5,\n",
    "                              scoring='neg_mean_absolute_error')\n",
    "\n",
    "print(\"Average MAE score:\", scores.mean())"
   ]
  },
  {
   "cell_type": "markdown",
   "id": "5997184a",
   "metadata": {
    "papermill": {
     "duration": 0.007655,
     "end_time": "2024-01-14T19:14:10.526955",
     "exception": false,
     "start_time": "2024-01-14T19:14:10.519300",
     "status": "completed"
    },
    "tags": []
   },
   "source": [
    "# Step 1: Write a useful function\n",
    "\n",
    "In this exercise, you'll use cross-validation to select parameters for a machine learning model.\n",
    "\n",
    "Begin by writing a function `get_score()` that reports the average (over three cross-validation folds) MAE of a machine learning pipeline that uses:\n",
    "- the data in `X` and `y` to create folds,\n",
    "- `SimpleImputer()` (with all parameters left as default) to replace missing values, and\n",
    "- `RandomForestRegressor()` (with `random_state=0`) to fit a random forest model.\n",
    "\n",
    "The `n_estimators` parameter supplied to `get_score()` is used when setting the number of trees in the random forest model.  "
   ]
  },
  {
   "cell_type": "code",
   "execution_count": 6,
   "id": "fa9ef639",
   "metadata": {
    "execution": {
     "iopub.execute_input": "2024-01-14T19:14:10.544983Z",
     "iopub.status.busy": "2024-01-14T19:14:10.544476Z",
     "iopub.status.idle": "2024-01-14T19:14:11.716767Z",
     "shell.execute_reply": "2024-01-14T19:14:11.715657Z"
    },
    "papermill": {
     "duration": 1.184556,
     "end_time": "2024-01-14T19:14:11.719348",
     "exception": false,
     "start_time": "2024-01-14T19:14:10.534792",
     "status": "completed"
    },
    "tags": []
   },
   "outputs": [
    {
     "data": {
      "application/javascript": [
       "parent.postMessage({\"jupyterEvent\": \"custom.exercise_interaction\", \"data\": {\"outcomeType\": 1, \"valueTowardsCompletion\": 0.3333333333333333, \"interactionType\": 1, \"questionType\": 2, \"questionId\": \"1_GetScore\", \"learnToolsVersion\": \"0.3.4\", \"failureMessage\": \"\", \"exceptionClass\": \"\", \"trace\": \"\"}}, \"*\")"
      ],
      "text/plain": [
       "<IPython.core.display.Javascript object>"
      ]
     },
     "metadata": {},
     "output_type": "display_data"
    },
    {
     "data": {
      "text/markdown": [
       "<span style=\"color:#33cc33\">Correct</span>"
      ],
      "text/plain": [
       "Correct"
      ]
     },
     "metadata": {},
     "output_type": "display_data"
    }
   ],
   "source": [
    "def get_score(n_estimators):\n",
    "#     \"\"\"Return the average MAE over 3 CV folds of random forest model.\n",
    "    \n",
    "#     Keyword argument:\n",
    "#     n_estimators -- the number of trees in the forest\n",
    "#     \"\"\"\n",
    "\n",
    "    my_pipeline = Pipeline(steps=[ ('preprocessor', SimpleImputer()),\n",
    "                                   ('model', RandomForestRegressor(n_estimators=n_estimators, random_state=0))])\n",
    "    \n",
    "    scores = -1 * cross_val_score(my_pipeline, X, y,cv=3,scoring='neg_mean_absolute_error')\n",
    "    \n",
    "    return(scores.mean())\n",
    "    # Replace this body with your own code\n",
    "    pass\n",
    "\n",
    "# Check your answer\n",
    "step_1.check()"
   ]
  },
  {
   "cell_type": "code",
   "execution_count": 7,
   "id": "954c8cc4",
   "metadata": {
    "execution": {
     "iopub.execute_input": "2024-01-14T19:14:11.739069Z",
     "iopub.status.busy": "2024-01-14T19:14:11.737859Z",
     "iopub.status.idle": "2024-01-14T19:14:11.742786Z",
     "shell.execute_reply": "2024-01-14T19:14:11.741886Z"
    },
    "papermill": {
     "duration": 0.017281,
     "end_time": "2024-01-14T19:14:11.744978",
     "exception": false,
     "start_time": "2024-01-14T19:14:11.727697",
     "status": "completed"
    },
    "tags": []
   },
   "outputs": [],
   "source": [
    "# Lines below will give you a hint or solution code\n",
    "#step_1.hint()\n",
    "#step_1.solution()"
   ]
  },
  {
   "cell_type": "markdown",
   "id": "6fefe0ca",
   "metadata": {
    "papermill": {
     "duration": 0.008151,
     "end_time": "2024-01-14T19:14:11.761971",
     "exception": false,
     "start_time": "2024-01-14T19:14:11.753820",
     "status": "completed"
    },
    "tags": []
   },
   "source": [
    "# Step 2: Test different parameter values\n",
    "\n",
    "Now, you will use the function that you defined in Step 1 to evaluate the model performance corresponding to eight different values for the number of trees in the random forest: 50, 100, 150, ..., 300, 350, 400.\n",
    "\n",
    "Store your results in a Python dictionary `results`, where `results[i]` is the average MAE returned by `get_score(i)`."
   ]
  },
  {
   "cell_type": "code",
   "execution_count": 8,
   "id": "3579e827",
   "metadata": {
    "execution": {
     "iopub.execute_input": "2024-01-14T19:14:11.780878Z",
     "iopub.status.busy": "2024-01-14T19:14:11.780086Z",
     "iopub.status.idle": "2024-01-14T20:12:16.626403Z",
     "shell.execute_reply": "2024-01-14T20:12:16.624948Z"
    },
    "papermill": {
     "duration": 3484.868898,
     "end_time": "2024-01-14T20:12:16.639108",
     "exception": false,
     "start_time": "2024-01-14T19:14:11.770210",
     "status": "completed"
    },
    "tags": []
   },
   "outputs": [
    {
     "data": {
      "application/javascript": [
       "parent.postMessage({\"jupyterEvent\": \"custom.exercise_interaction\", \"data\": {\"outcomeType\": 2, \"failureMessage\": \"`results` should have 8 entries, one for each tested value of `n_estimators`.\", \"interactionType\": 1, \"questionType\": 2, \"questionId\": \"2_GetDict\", \"learnToolsVersion\": \"0.3.4\", \"valueTowardsCompletion\": 0.0, \"exceptionClass\": \"\", \"trace\": \"\"}}, \"*\")"
      ],
      "text/plain": [
       "<IPython.core.display.Javascript object>"
      ]
     },
     "metadata": {},
     "output_type": "display_data"
    },
    {
     "data": {
      "text/markdown": [
       "<span style=\"color:#cc3333\">Incorrect:</span> `results` should have 8 entries, one for each tested value of `n_estimators`."
      ],
      "text/plain": [
       "Incorrect: `results` should have 8 entries, one for each tested value of `n_estimators`."
      ]
     },
     "metadata": {},
     "output_type": "display_data"
    }
   ],
   "source": [
    "results = {} # Your code here\n",
    "\n",
    "for i in range(50,450):\n",
    "    results[i]=get_score(i)\n",
    "\n",
    "# Check your answer\n",
    "step_2.check()"
   ]
  },
  {
   "cell_type": "code",
   "execution_count": 9,
   "id": "a4695ac5",
   "metadata": {
    "execution": {
     "iopub.execute_input": "2024-01-14T20:12:16.659734Z",
     "iopub.status.busy": "2024-01-14T20:12:16.659172Z",
     "iopub.status.idle": "2024-01-14T20:12:16.664783Z",
     "shell.execute_reply": "2024-01-14T20:12:16.663434Z"
    },
    "papermill": {
     "duration": 0.018823,
     "end_time": "2024-01-14T20:12:16.667082",
     "exception": false,
     "start_time": "2024-01-14T20:12:16.648259",
     "status": "completed"
    },
    "tags": []
   },
   "outputs": [],
   "source": [
    "# Lines below will give you a hint or solution code\n",
    "#step_2.hint()\n",
    "#step_2.solution()"
   ]
  },
  {
   "cell_type": "markdown",
   "id": "b51dc4cc",
   "metadata": {
    "papermill": {
     "duration": 0.00884,
     "end_time": "2024-01-14T20:12:16.685638",
     "exception": false,
     "start_time": "2024-01-14T20:12:16.676798",
     "status": "completed"
    },
    "tags": []
   },
   "source": [
    "Use the next cell to visualize your results from Step 2.  Run the code without changes."
   ]
  },
  {
   "cell_type": "code",
   "execution_count": 10,
   "id": "47d28780",
   "metadata": {
    "execution": {
     "iopub.execute_input": "2024-01-14T20:12:16.705941Z",
     "iopub.status.busy": "2024-01-14T20:12:16.705368Z",
     "iopub.status.idle": "2024-01-14T20:12:17.036779Z",
     "shell.execute_reply": "2024-01-14T20:12:17.035322Z"
    },
    "papermill": {
     "duration": 0.344701,
     "end_time": "2024-01-14T20:12:17.039486",
     "exception": false,
     "start_time": "2024-01-14T20:12:16.694785",
     "status": "completed"
    },
    "tags": []
   },
   "outputs": [
    {
     "data": {
      "image/png": "[encoded data removed]",
      "text/plain": [
       "<Figure size 640x480 with 1 Axes>"
      ]
     },
     "metadata": {},
     "output_type": "display_data"
    }
   ],
   "source": [
    "import matplotlib.pyplot as plt\n",
    "%matplotlib inline\n",
    "\n",
    "plt.plot(list(results.keys()), list(results.values()))\n",
    "plt.show()"
   ]
  },
  {
   "cell_type": "markdown",
   "id": "cd874811",
   "metadata": {
    "papermill": {
     "duration": 0.00962,
     "end_time": "2024-01-14T20:12:17.059688",
     "exception": false,
     "start_time": "2024-01-14T20:12:17.050068",
     "status": "completed"
    },
    "tags": []
   },
   "source": [
    "# Step 3: Find the best parameter value\n",
    "\n",
    "Given the results, which value for `n_estimators` seems best for the random forest model?  Use your answer to set the value of `n_estimators_best`."
   ]
  },
  {
   "cell_type": "code",
   "execution_count": 11,
   "id": "d5a0a341",
   "metadata": {
    "execution": {
     "iopub.execute_input": "2024-01-14T20:12:17.082041Z",
     "iopub.status.busy": "2024-01-14T20:12:17.081248Z",
     "iopub.status.idle": "2024-01-14T20:12:17.090748Z",
     "shell.execute_reply": "2024-01-14T20:12:17.089841Z"
    },
    "papermill": {
     "duration": 0.023306,
     "end_time": "2024-01-14T20:12:17.092792",
     "exception": false,
     "start_time": "2024-01-14T20:12:17.069486",
     "status": "completed"
    },
    "tags": []
   },
   "outputs": [
    {
     "data": {
      "application/javascript": [
       "parent.postMessage({\"jupyterEvent\": \"custom.exercise_interaction\", \"data\": {\"outcomeType\": 2, \"failureMessage\": \"It looks like you have provided an average MAE value.  Please instead provide a value for `n_estimators` that indicates the ideal number of trees to use in the model. Your answer should be one of 50, 100, 150, ..., 300, 350, 400.\", \"interactionType\": 1, \"questionType\": 2, \"questionId\": \"3_BestEst\", \"learnToolsVersion\": \"0.3.4\", \"valueTowardsCompletion\": 0.0, \"exceptionClass\": \"\", \"trace\": \"\"}}, \"*\")"
      ],
      "text/plain": [
       "<IPython.core.display.Javascript object>"
      ]
     },
     "metadata": {},
     "output_type": "display_data"
    },
    {
     "data": {
      "text/markdown": [
       "<span style=\"color:#cc3333\">Incorrect:</span> It looks like you have provided an average MAE value.  Please instead provide a value for `n_estimators` that indicates the ideal number of trees to use in the model. Your answer should be one of 50, 100, 150, ..., 300, 350, 400."
      ],
      "text/plain": [
       "Incorrect: It looks like you have provided an average MAE value.  Please instead provide a value for `n_estimators` that indicates the ideal number of trees to use in the model. Your answer should be one of 50, 100, 150, ..., 300, 350, 400."
      ]
     },
     "metadata": {},
     "output_type": "display_data"
    }
   ],
   "source": [
    "n_estimators_best = min(list(results.values()))\n",
    "\n",
    "# Check your answer\n",
    "step_3.check()"
   ]
  },
  {
   "cell_type": "code",
   "execution_count": 12,
   "id": "26c5ddcc",
   "metadata": {
    "execution": {
     "iopub.execute_input": "2024-01-14T20:12:17.116596Z",
     "iopub.status.busy": "2024-01-14T20:12:17.115712Z",
     "iopub.status.idle": "2024-01-14T20:12:17.120104Z",
     "shell.execute_reply": "2024-01-14T20:12:17.119224Z"
    },
    "papermill": {
     "duration": 0.019368,
     "end_time": "2024-01-14T20:12:17.122262",
     "exception": false,
     "start_time": "2024-01-14T20:12:17.102894",
     "status": "completed"
    },
    "tags": []
   },
   "outputs": [],
   "source": [
    "# Lines below will give you a hint or solution code\n",
    "#step_3.hint()\n",
    "#step_3.solution()"
   ]
  },
  {
   "cell_type": "markdown",
   "id": "5eec465a",
   "metadata": {
    "papermill": {
     "duration": 0.009896,
     "end_time": "2024-01-14T20:12:17.142477",
     "exception": false,
     "start_time": "2024-01-14T20:12:17.132581",
     "status": "completed"
    },
    "tags": []
   },
   "source": [
    "In this exercise, you have explored one method for choosing appropriate parameters in a machine learning model.  \n",
    "\n",
    "If you'd like to learn more about [hyperparameter optimization](https://en.wikipedia.org/wiki/Hyperparameter_optimization), you're encouraged to start with **grid search**, which is a straightforward method for determining the best _combination_ of parameters for a machine learning model.  Thankfully, scikit-learn also contains a built-in function [`GridSearchCV()`](https://scikit-learn.org/stable/modules/generated/sklearn.model_selection.GridSearchCV.html) that can make your grid search code very efficient!\n",
    "\n",
    "# Keep going\n",
    "\n",
    "Continue to learn about **[gradient boosting](https://www.kaggle.com/alexisbcook/xgboost)**, a powerful technique that achieves state-of-the-art results on a variety of datasets."
   ]
  },
  {
   "cell_type": "markdown",
   "id": "b7c61941",
   "metadata": {
    "papermill": {
     "duration": 0.00973,
     "end_time": "2024-01-14T20:12:17.162501",
     "exception": false,
     "start_time": "2024-01-14T20:12:17.152771",
     "status": "completed"
    },
    "tags": []
   },
   "source": [
    "---\n",
    "\n",
    "\n",
    "\n",
    "\n",
    "*Have questions or comments? Visit the [course discussion forum](https://www.kaggle.com/learn/intermediate-machine-learning/discussion) to chat with other learners.*"
   ]
  }
 ],
 "metadata": {
  "kaggle": {
   "accelerator": "none",
   "dataSources": [
    {
     "databundleVersionId": 111096,
     "sourceId": 10211,
     "sourceType": "competition"
    }
   ],
   "isGpuEnabled": false,
   "isInternetEnabled": false,
   "language": "python",
   "sourceType": "notebook"
  },
  "kernelspec": {
   "display_name": "Python 3",
   "language": "python",
   "name": "python3"
  },
  "language_info": {
   "codemirror_mode": {
    "name": "ipython",
    "version": 3
   },
   "file_extension": ".py",
   "mimetype": "text/x-python",
   "name": "python",
   "nbconvert_exporter": "python",
   "pygments_lexer": "ipython3",
   "version": "3.10.12"
  },
  "papermill": {
   "default_parameters": {},
   "duration": 3497.473706,
   "end_time": "2024-01-14T20:12:18.107855",
   "environment_variables": {},
   "exception": null,
   "input_path": "__notebook__.ipynb",
   "output_path": "__notebook__.ipynb",
   "parameters": {},
   "start_time": "2024-01-14T19:14:00.634149",
   "version": "2.4.0"
  }
 },
 "nbformat": 4,
 "nbformat_minor": 5
}
