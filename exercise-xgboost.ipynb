{
 "cells": [
  {
   "cell_type": "markdown",
   "id": "f5465f8d",
   "metadata": {
    "papermill": {
     "duration": 0.007729,
     "end_time": "2024-01-16T08:55:40.921149",
     "exception": false,
     "start_time": "2024-01-16T08:55:40.913420",
     "status": "completed"
    },
    "tags": []
   },
   "source": [
    "**This notebook is an exercise in the [Intermediate Machine Learning](https://www.kaggle.com/learn/intermediate-machine-learning) course.  You can reference the tutorial at [this link](https://www.kaggle.com/alexisbcook/xgboost).**\n",
    "\n",
    "---\n"
   ]
  },
  {
   "cell_type": "markdown",
   "id": "51e6117f",
   "metadata": {
    "papermill": {
     "duration": 0.00663,
     "end_time": "2024-01-16T08:55:40.934866",
     "exception": false,
     "start_time": "2024-01-16T08:55:40.928236",
     "status": "completed"
    },
    "tags": []
   },
   "source": [
    "In this exercise, you will use your new knowledge to train a model with **gradient boosting**.\n",
    "\n",
    "# Setup\n",
    "\n",
    "The questions below will give you feedback on your work. Run the following cell to set up the feedback system."
   ]
  },
  {
   "cell_type": "code",
   "execution_count": 1,
   "id": "a31c480d",
   "metadata": {
    "execution": {
     "iopub.execute_input": "2024-01-16T08:55:40.951455Z",
     "iopub.status.busy": "2024-01-16T08:55:40.950851Z",
     "iopub.status.idle": "2024-01-16T08:55:44.500551Z",
     "shell.execute_reply": "2024-01-16T08:55:44.499588Z"
    },
    "papermill": {
     "duration": 3.561302,
     "end_time": "2024-01-16T08:55:44.503041",
     "exception": false,
     "start_time": "2024-01-16T08:55:40.941739",
     "status": "completed"
    },
    "tags": []
   },
   "outputs": [
    {
     "name": "stdout",
     "output_type": "stream",
     "text": [
      "Setup Complete\n"
     ]
    }
   ],
   "source": [
    "# Set up code checking\n",
    "import os\n",
    "if not os.path.exists(\"../input/train.csv\"):\n",
    "    os.symlink(\"../input/home-data-for-ml-course/train.csv\", \"../input/train.csv\")  \n",
    "    os.symlink(\"../input/home-data-for-ml-course/test.csv\", \"../input/test.csv\") \n",
    "from learntools.core import binder\n",
    "binder.bind(globals())\n",
    "from learntools.ml_intermediate.ex6 import *\n",
    "print(\"Setup Complete\")"
   ]
  },
  {
   "cell_type": "markdown",
   "id": "89249303",
   "metadata": {
    "papermill": {
     "duration": 0.006776,
     "end_time": "2024-01-16T08:55:44.517541",
     "exception": false,
     "start_time": "2024-01-16T08:55:44.510765",
     "status": "completed"
    },
    "tags": []
   },
   "source": [
    "You will work with the [Housing Prices Competition for Kaggle Learn Users](https://www.kaggle.com/c/home-data-for-ml-course) dataset from the previous exercise. \n",
    "\n",
    "![Ames Housing dataset image](https://storage.googleapis.com/kaggle-media/learn/images/lTJVG4e.png)\n",
    "\n",
    "Run the next code cell without changes to load the training and validation sets in `X_train`, `X_valid`, `y_train`, and `y_valid`.  The test set is loaded in `X_test`."
   ]
  },
  {
   "cell_type": "code",
   "execution_count": 2,
   "id": "1635e9a1",
   "metadata": {
    "execution": {
     "iopub.execute_input": "2024-01-16T08:55:44.534354Z",
     "iopub.status.busy": "2024-01-16T08:55:44.533002Z",
     "iopub.status.idle": "2024-01-16T08:55:44.748825Z",
     "shell.execute_reply": "2024-01-16T08:55:44.747601Z"
    },
    "papermill": {
     "duration": 0.227402,
     "end_time": "2024-01-16T08:55:44.751728",
     "exception": false,
     "start_time": "2024-01-16T08:55:44.524326",
     "status": "completed"
    },
    "tags": []
   },
   "outputs": [],
   "source": [
    "import pandas as pd\n",
    "from sklearn.model_selection import train_test_split\n",
    "\n",
    "# Read the data\n",
    "X = pd.read_csv('../input/train.csv', index_col='Id')\n",
    "X_test_full = pd.read_csv('../input/test.csv', index_col='Id')\n",
    "\n",
    "# Remove rows with missing target, separate target from predictors\n",
    "X.dropna(axis=0, subset=['SalePrice'], inplace=True)\n",
    "y = X.SalePrice              \n",
    "X.drop(['SalePrice'], axis=1, inplace=True)\n",
    "\n",
    "# Break off validation set from training data\n",
    "X_train_full, X_valid_full, y_train, y_valid = train_test_split(X, y, train_size=0.8, test_size=0.2,\n",
    "                                                                random_state=0)\n",
    "\n",
    "# \"Cardinality\" means the number of unique values in a column\n",
    "# Select categorical columns with relatively low cardinality (convenient but arbitrary)\n",
    "low_cardinality_cols = [cname for cname in X_train_full.columns if X_train_full[cname].nunique() < 10 and \n",
    "                        X_train_full[cname].dtype == \"object\"]\n",
    "\n",
    "# Select numeric columns\n",
    "numeric_cols = [cname for cname in X_train_full.columns if X_train_full[cname].dtype in ['int64', 'float64']]\n",
    "\n",
    "# Keep selected columns only\n",
    "my_cols = low_cardinality_cols + numeric_cols\n",
    "X_train = X_train_full[my_cols].copy()\n",
    "X_valid = X_valid_full[my_cols].copy()\n",
    "X_test = X_test_full[my_cols].copy()\n",
    "\n",
    "# One-hot encode the data (to shorten the code, we use pandas)\n",
    "X_train = pd.get_dummies(X_train)\n",
    "X_valid = pd.get_dummies(X_valid)\n",
    "X_test = pd.get_dummies(X_test)\n",
    "X_train, X_valid = X_train.align(X_valid, join='left', axis=1)\n",
    "X_train, X_test = X_train.align(X_test, join='left', axis=1)"
   ]
  },
  {
   "cell_type": "markdown",
   "id": "191bd345",
   "metadata": {
    "papermill": {
     "duration": 0.007056,
     "end_time": "2024-01-16T08:55:44.766273",
     "exception": false,
     "start_time": "2024-01-16T08:55:44.759217",
     "status": "completed"
    },
    "tags": []
   },
   "source": [
    "# Step 1: Build model\n",
    "\n",
    "### Part A\n",
    "\n",
    "In this step, you'll build and train your first model with gradient boosting.\n",
    "\n",
    "- Begin by setting `my_model_1` to an XGBoost model.  Use the [XGBRegressor](https://xgboost.readthedocs.io/en/latest/python/python_api.html#xgboost.XGBRegressor) class, and set the random seed to 0 (`random_state=0`).  **Leave all other parameters as default.**\n",
    "- Then, fit the model to the training data in `X_train` and `y_train`."
   ]
  },
  {
   "cell_type": "code",
   "execution_count": 3,
   "id": "565c4132",
   "metadata": {
    "execution": {
     "iopub.execute_input": "2024-01-16T08:55:44.783550Z",
     "iopub.status.busy": "2024-01-16T08:55:44.783043Z",
     "iopub.status.idle": "2024-01-16T08:55:45.348206Z",
     "shell.execute_reply": "2024-01-16T08:55:45.347292Z"
    },
    "papermill": {
     "duration": 0.576831,
     "end_time": "2024-01-16T08:55:45.351002",
     "exception": false,
     "start_time": "2024-01-16T08:55:44.774171",
     "status": "completed"
    },
    "tags": []
   },
   "outputs": [
    {
     "data": {
      "application/javascript": [
       "parent.postMessage({\"jupyterEvent\": \"custom.exercise_interaction\", \"data\": {\"outcomeType\": 1, \"valueTowardsCompletion\": 0.5, \"interactionType\": 1, \"questionType\": 2, \"questionId\": \"1.1_Model1A\", \"learnToolsVersion\": \"0.3.4\", \"failureMessage\": \"\", \"exceptionClass\": \"\", \"trace\": \"\"}}, \"*\")"
      ],
      "text/plain": [
       "<IPython.core.display.Javascript object>"
      ]
     },
     "metadata": {},
     "output_type": "display_data"
    },
    {
     "data": {
      "text/markdown": [
       "<span style=\"color:#33cc33\">Correct</span>"
      ],
      "text/plain": [
       "Correct"
      ]
     },
     "metadata": {},
     "output_type": "display_data"
    }
   ],
   "source": [
    "from xgboost import XGBRegressor\n",
    "\n",
    "# Define the model\n",
    "my_model_1 = XGBRegressor(random_state=0) # Your code here\n",
    "\n",
    "# Fit the model\n",
    "my_model_1.fit(X_train, y_train) # Your code here\n",
    "\n",
    "# Check your answer\n",
    "step_1.a.check()"
   ]
  },
  {
   "cell_type": "code",
   "execution_count": 4,
   "id": "98489c1b",
   "metadata": {
    "execution": {
     "iopub.execute_input": "2024-01-16T08:55:45.367865Z",
     "iopub.status.busy": "2024-01-16T08:55:45.367361Z",
     "iopub.status.idle": "2024-01-16T08:55:45.372624Z",
     "shell.execute_reply": "2024-01-16T08:55:45.371235Z"
    },
    "papermill": {
     "duration": 0.016592,
     "end_time": "2024-01-16T08:55:45.375066",
     "exception": false,
     "start_time": "2024-01-16T08:55:45.358474",
     "status": "completed"
    },
    "tags": []
   },
   "outputs": [],
   "source": [
    "# Lines below will give you a hint or solution code\n",
    "#step_1.a.hint()\n",
    "#step_1.a.solution()"
   ]
  },
  {
   "cell_type": "markdown",
   "id": "889e3ccd",
   "metadata": {
    "papermill": {
     "duration": 0.007046,
     "end_time": "2024-01-16T08:55:45.389432",
     "exception": false,
     "start_time": "2024-01-16T08:55:45.382386",
     "status": "completed"
    },
    "tags": []
   },
   "source": [
    "### Part B\n",
    "\n",
    "Set `predictions_1` to the model's predictions for the validation data.  Recall that the validation features are stored in `X_valid`."
   ]
  },
  {
   "cell_type": "code",
   "execution_count": 5,
   "id": "4910e1fc",
   "metadata": {
    "execution": {
     "iopub.execute_input": "2024-01-16T08:55:45.406782Z",
     "iopub.status.busy": "2024-01-16T08:55:45.405485Z",
     "iopub.status.idle": "2024-01-16T08:55:45.462501Z",
     "shell.execute_reply": "2024-01-16T08:55:45.461673Z"
    },
    "papermill": {
     "duration": 0.072654,
     "end_time": "2024-01-16T08:55:45.469319",
     "exception": false,
     "start_time": "2024-01-16T08:55:45.396665",
     "status": "completed"
    },
    "tags": []
   },
   "outputs": [
    {
     "data": {
      "application/javascript": [
       "parent.postMessage({\"jupyterEvent\": \"custom.exercise_interaction\", \"data\": {\"outcomeType\": 1, \"valueTowardsCompletion\": 0.5, \"interactionType\": 1, \"questionType\": 2, \"questionId\": \"1.2_Model1B\", \"learnToolsVersion\": \"0.3.4\", \"failureMessage\": \"\", \"exceptionClass\": \"\", \"trace\": \"\"}}, \"*\")"
      ],
      "text/plain": [
       "<IPython.core.display.Javascript object>"
      ]
     },
     "metadata": {},
     "output_type": "display_data"
    },
    {
     "data": {
      "text/markdown": [
       "<span style=\"color:#33cc33\">Correct</span>"
      ],
      "text/plain": [
       "Correct"
      ]
     },
     "metadata": {},
     "output_type": "display_data"
    }
   ],
   "source": [
    "from sklearn.metrics import mean_absolute_error\n",
    "\n",
    "# Get predictions\n",
    "predictions_1 = my_model_1.predict(X_valid) # Your code here\n",
    "\n",
    "# Check your answer\n",
    "step_1.b.check()"
   ]
  },
  {
   "cell_type": "code",
   "execution_count": 6,
   "id": "026cd9f7",
   "metadata": {
    "execution": {
     "iopub.execute_input": "2024-01-16T08:55:45.486684Z",
     "iopub.status.busy": "2024-01-16T08:55:45.486295Z",
     "iopub.status.idle": "2024-01-16T08:55:45.490255Z",
     "shell.execute_reply": "2024-01-16T08:55:45.489492Z"
    },
    "papermill": {
     "duration": 0.01483,
     "end_time": "2024-01-16T08:55:45.492267",
     "exception": false,
     "start_time": "2024-01-16T08:55:45.477437",
     "status": "completed"
    },
    "tags": []
   },
   "outputs": [],
   "source": [
    "# Lines below will give you a hint or solution code\n",
    "#step_1.b.hint()\n",
    "#step_1.b.solution()"
   ]
  },
  {
   "cell_type": "markdown",
   "id": "4badc688",
   "metadata": {
    "papermill": {
     "duration": 0.007976,
     "end_time": "2024-01-16T08:55:45.508618",
     "exception": false,
     "start_time": "2024-01-16T08:55:45.500642",
     "status": "completed"
    },
    "tags": []
   },
   "source": [
    "### Part C\n",
    "\n",
    "Finally, use the `mean_absolute_error()` function to calculate the mean absolute error (MAE) corresponding to the predictions for the validation set.  Recall that the labels for the validation data are stored in `y_valid`."
   ]
  },
  {
   "cell_type": "code",
   "execution_count": 7,
   "id": "e5cf76ba",
   "metadata": {
    "execution": {
     "iopub.execute_input": "2024-01-16T08:55:45.527031Z",
     "iopub.status.busy": "2024-01-16T08:55:45.526281Z",
     "iopub.status.idle": "2024-01-16T08:55:45.536164Z",
     "shell.execute_reply": "2024-01-16T08:55:45.535390Z"
    },
    "papermill": {
     "duration": 0.021519,
     "end_time": "2024-01-16T08:55:45.538264",
     "exception": false,
     "start_time": "2024-01-16T08:55:45.516745",
     "status": "completed"
    },
    "tags": []
   },
   "outputs": [
    {
     "name": "stdout",
     "output_type": "stream",
     "text": [
      "Mean Absolute Error: 18161.82412510702\n"
     ]
    },
    {
     "data": {
      "application/javascript": [
       "parent.postMessage({\"jupyterEvent\": \"custom.exercise_interaction\", \"data\": {\"outcomeType\": 1, \"valueTowardsCompletion\": 0.5, \"interactionType\": 1, \"questionType\": 2, \"questionId\": \"1.3_Model1C\", \"learnToolsVersion\": \"0.3.4\", \"failureMessage\": \"\", \"exceptionClass\": \"\", \"trace\": \"\"}}, \"*\")"
      ],
      "text/plain": [
       "<IPython.core.display.Javascript object>"
      ]
     },
     "metadata": {},
     "output_type": "display_data"
    },
    {
     "data": {
      "text/markdown": [
       "<span style=\"color:#33cc33\">Correct</span>"
      ],
      "text/plain": [
       "Correct"
      ]
     },
     "metadata": {},
     "output_type": "display_data"
    }
   ],
   "source": [
    "# Calculate MAE\n",
    "mae_1 = mean_absolute_error(predictions_1, y_valid) # Your code here\n",
    "\n",
    "# Uncomment to print MAE\n",
    "print(\"Mean Absolute Error:\" , mae_1)\n",
    "\n",
    "# Check your answer\n",
    "step_1.c.check()"
   ]
  },
  {
   "cell_type": "code",
   "execution_count": 8,
   "id": "ccdb2c23",
   "metadata": {
    "execution": {
     "iopub.execute_input": "2024-01-16T08:55:45.557105Z",
     "iopub.status.busy": "2024-01-16T08:55:45.556365Z",
     "iopub.status.idle": "2024-01-16T08:55:45.560199Z",
     "shell.execute_reply": "2024-01-16T08:55:45.559455Z"
    },
    "papermill": {
     "duration": 0.015851,
     "end_time": "2024-01-16T08:55:45.562342",
     "exception": false,
     "start_time": "2024-01-16T08:55:45.546491",
     "status": "completed"
    },
    "tags": []
   },
   "outputs": [],
   "source": [
    "# Lines below will give you a hint or solution code\n",
    "#step_1.c.hint()\n",
    "#step_1.c.solution()"
   ]
  },
  {
   "cell_type": "markdown",
   "id": "7a405e7d",
   "metadata": {
    "papermill": {
     "duration": 0.008241,
     "end_time": "2024-01-16T08:55:45.579308",
     "exception": false,
     "start_time": "2024-01-16T08:55:45.571067",
     "status": "completed"
    },
    "tags": []
   },
   "source": [
    "# Step 2: Improve the model\n",
    "\n",
    "Now that you've trained a default model as baseline, it's time to tinker with the parameters, to see if you can get better performance!\n",
    "- Begin by setting `my_model_2` to an XGBoost model, using the [XGBRegressor](https://xgboost.readthedocs.io/en/latest/python/python_api.html#xgboost.XGBRegressor) class.  Use what you learned in the previous tutorial to figure out how to change the default parameters (like `n_estimators` and `learning_rate`) to get better results.\n",
    "- Then, fit the model to the training data in `X_train` and `y_train`.\n",
    "- Set `predictions_2` to the model's predictions for the validation data.  Recall that the validation features are stored in `X_valid`.\n",
    "- Finally, use the `mean_absolute_error()` function to calculate the mean absolute error (MAE) corresponding to the predictions on the validation set.  Recall that the labels for the validation data are stored in `y_valid`.\n",
    "\n",
    "In order for this step to be marked correct, your model in `my_model_2` must attain lower MAE than the model in `my_model_1`. "
   ]
  },
  {
   "cell_type": "code",
   "execution_count": 9,
   "id": "f4e2877a",
   "metadata": {
    "execution": {
     "iopub.execute_input": "2024-01-16T08:55:45.598711Z",
     "iopub.status.busy": "2024-01-16T08:55:45.598029Z",
     "iopub.status.idle": "2024-01-16T08:55:47.009184Z",
     "shell.execute_reply": "2024-01-16T08:55:47.007723Z"
    },
    "papermill": {
     "duration": 1.424526,
     "end_time": "2024-01-16T08:55:47.012584",
     "exception": false,
     "start_time": "2024-01-16T08:55:45.588058",
     "status": "completed"
    },
    "tags": []
   },
   "outputs": [
    {
     "name": "stderr",
     "output_type": "stream",
     "text": [
      "/opt/conda/lib/python3.10/site-packages/xgboost/sklearn.py:889: UserWarning: `early_stopping_rounds` in `fit` method is deprecated for better compatibility with scikit-learn, use `early_stopping_rounds` in constructor or`set_params` instead.\n",
      "  warnings.warn(\n"
     ]
    },
    {
     "name": "stdout",
     "output_type": "stream",
     "text": [
      "Mean Absolute Error: 17032.769063035103\n"
     ]
    },
    {
     "data": {
      "application/javascript": [
       "parent.postMessage({\"jupyterEvent\": \"custom.exercise_interaction\", \"data\": {\"outcomeType\": 1, \"valueTowardsCompletion\": 0.5, \"interactionType\": 1, \"questionType\": 2, \"questionId\": \"2_Model2\", \"learnToolsVersion\": \"0.3.4\", \"failureMessage\": \"\", \"exceptionClass\": \"\", \"trace\": \"\"}}, \"*\")"
      ],
      "text/plain": [
       "<IPython.core.display.Javascript object>"
      ]
     },
     "metadata": {},
     "output_type": "display_data"
    },
    {
     "data": {
      "text/markdown": [
       "<span style=\"color:#33cc33\">Correct</span>"
      ],
      "text/plain": [
       "Correct"
      ]
     },
     "metadata": {},
     "output_type": "display_data"
    }
   ],
   "source": [
    "# Define the model\n",
    "my_model_2 = XGBRegressor(n_estimators=1000, learning_rate=0.05,random_state=0) # Your code here\n",
    "\n",
    "# Fit the model\n",
    "my_model_2.fit(X_train, y_train, early_stopping_rounds=5,\n",
    "             eval_set=[(X_valid, y_valid)],\n",
    "             verbose=False) # Your code here\n",
    "\n",
    "# Get predictions\n",
    "predictions_2 = my_model_2.predict(X_valid) # Your code here\n",
    "\n",
    "# Calculate MAE\n",
    "mae_2 = mean_absolute_error(predictions_2, y_valid) # Your code here\n",
    "\n",
    "# Uncomment to print MAE\n",
    "print(\"Mean Absolute Error:\" , mae_2)\n",
    "\n",
    "# Check your answer\n",
    "step_2.check()"
   ]
  },
  {
   "cell_type": "code",
   "execution_count": 10,
   "id": "e1c8e0cf",
   "metadata": {
    "execution": {
     "iopub.execute_input": "2024-01-16T08:55:47.033671Z",
     "iopub.status.busy": "2024-01-16T08:55:47.032675Z",
     "iopub.status.idle": "2024-01-16T08:55:47.038202Z",
     "shell.execute_reply": "2024-01-16T08:55:47.037061Z"
    },
    "papermill": {
     "duration": 0.01838,
     "end_time": "2024-01-16T08:55:47.040744",
     "exception": false,
     "start_time": "2024-01-16T08:55:47.022364",
     "status": "completed"
    },
    "tags": []
   },
   "outputs": [],
   "source": [
    "# Lines below will give you a hint or solution code\n",
    "#step_2.hint()\n",
    "#step_2.solution()"
   ]
  },
  {
   "cell_type": "markdown",
   "id": "70f197b9",
   "metadata": {
    "papermill": {
     "duration": 0.008506,
     "end_time": "2024-01-16T08:55:47.058625",
     "exception": false,
     "start_time": "2024-01-16T08:55:47.050119",
     "status": "completed"
    },
    "tags": []
   },
   "source": [
    "# Step 3: Break the model\n",
    "\n",
    "In this step, you will create a model that performs worse than the original model in Step 1.  This will help you to develop your intuition for how to set parameters.  You might even find that you accidentally get better performance, which is ultimately a nice problem to have and a valuable learning experience!\n",
    "- Begin by setting `my_model_3` to an XGBoost model, using the [XGBRegressor](https://xgboost.readthedocs.io/en/latest/python/python_api.html#xgboost.XGBRegressor) class.  Use what you learned in the previous tutorial to figure out how to change the default parameters (like `n_estimators` and `learning_rate`) to design a model to get high MAE.\n",
    "- Then, fit the model to the training data in `X_train` and `y_train`.\n",
    "- Set `predictions_3` to the model's predictions for the validation data.  Recall that the validation features are stored in `X_valid`.\n",
    "- Finally, use the `mean_absolute_error()` function to calculate the mean absolute error (MAE) corresponding to the predictions on the validation set.  Recall that the labels for the validation data are stored in `y_valid`.\n",
    "\n",
    "In order for this step to be marked correct, your model in `my_model_3` must attain higher MAE than the model in `my_model_1`. "
   ]
  },
  {
   "cell_type": "code",
   "execution_count": 11,
   "id": "d14437c2",
   "metadata": {
    "execution": {
     "iopub.execute_input": "2024-01-16T08:55:47.078693Z",
     "iopub.status.busy": "2024-01-16T08:55:47.077964Z",
     "iopub.status.idle": "2024-01-16T08:55:47.478840Z",
     "shell.execute_reply": "2024-01-16T08:55:47.477480Z"
    },
    "papermill": {
     "duration": 0.414548,
     "end_time": "2024-01-16T08:55:47.481912",
     "exception": false,
     "start_time": "2024-01-16T08:55:47.067364",
     "status": "completed"
    },
    "tags": []
   },
   "outputs": [
    {
     "name": "stdout",
     "output_type": "stream",
     "text": [
      "Mean Absolute Error: 21691.424416738013\n"
     ]
    },
    {
     "data": {
      "application/javascript": [
       "parent.postMessage({\"jupyterEvent\": \"custom.exercise_interaction\", \"data\": {\"outcomeType\": 1, \"valueTowardsCompletion\": 0.5, \"interactionType\": 1, \"questionType\": 2, \"questionId\": \"3_Model3\", \"learnToolsVersion\": \"0.3.4\", \"failureMessage\": \"\", \"exceptionClass\": \"\", \"trace\": \"\"}}, \"*\")"
      ],
      "text/plain": [
       "<IPython.core.display.Javascript object>"
      ]
     },
     "metadata": {},
     "output_type": "display_data"
    },
    {
     "data": {
      "text/markdown": [
       "<span style=\"color:#33cc33\">Correct</span>"
      ],
      "text/plain": [
       "Correct"
      ]
     },
     "metadata": {},
     "output_type": "display_data"
    }
   ],
   "source": [
    "# Define the model\n",
    "my_model_3 = XGBRegressor(n_estimators=50, learning_rate=0.7)\n",
    "\n",
    "# Fit the model\n",
    "my_model_3.fit(X_train, y_train) # Your code here\n",
    "\n",
    "# Get predictions\n",
    "predictions_3 = my_model_3.predict(X_valid)\n",
    "\n",
    "# Calculate MAE\n",
    "mae_3 = mean_absolute_error(predictions_3, y_valid)\n",
    "\n",
    "# Uncomment to print MAE\n",
    "print(\"Mean Absolute Error:\" , mae_3)\n",
    "\n",
    "# Check your answer\n",
    "step_3.check()"
   ]
  },
  {
   "cell_type": "code",
   "execution_count": 12,
   "id": "9e90979a",
   "metadata": {
    "execution": {
     "iopub.execute_input": "2024-01-16T08:55:47.506878Z",
     "iopub.status.busy": "2024-01-16T08:55:47.505956Z",
     "iopub.status.idle": "2024-01-16T08:55:47.511028Z",
     "shell.execute_reply": "2024-01-16T08:55:47.509770Z"
    },
    "papermill": {
     "duration": 0.018832,
     "end_time": "2024-01-16T08:55:47.513411",
     "exception": false,
     "start_time": "2024-01-16T08:55:47.494579",
     "status": "completed"
    },
    "tags": []
   },
   "outputs": [],
   "source": [
    "# Lines below will give you a hint or solution code\n",
    "#step_3.hint()\n",
    "#step_3.solution()"
   ]
  },
  {
   "cell_type": "markdown",
   "id": "e3c4d81b",
   "metadata": {
    "papermill": {
     "duration": 0.009269,
     "end_time": "2024-01-16T08:55:47.532257",
     "exception": false,
     "start_time": "2024-01-16T08:55:47.522988",
     "status": "completed"
    },
    "tags": []
   },
   "source": [
    "# Keep going\n",
    "\n",
    "Continue to learn about **[data leakage](https://www.kaggle.com/alexisbcook/data-leakage)**.  This is an important issue for a data scientist to understand, and it has the potential to ruin your models in subtle and dangerous ways!"
   ]
  },
  {
   "cell_type": "markdown",
   "id": "209ad5af",
   "metadata": {
    "papermill": {
     "duration": 0.009358,
     "end_time": "2024-01-16T08:55:47.551003",
     "exception": false,
     "start_time": "2024-01-16T08:55:47.541645",
     "status": "completed"
    },
    "tags": []
   },
   "source": [
    "---\n",
    "\n",
    "\n",
    "\n",
    "\n",
    "*Have questions or comments? Visit the [course discussion forum](https://www.kaggle.com/learn/intermediate-machine-learning/discussion) to chat with other learners.*"
   ]
  }
 ],
 "metadata": {
  "kaggle": {
   "accelerator": "none",
   "dataSources": [
    {
     "databundleVersionId": 111096,
     "sourceId": 10211,
     "sourceType": "competition"
    }
   ],
   "isGpuEnabled": false,
   "isInternetEnabled": false,
   "language": "python",
   "sourceType": "notebook"
  },
  "kernelspec": {
   "display_name": "Python 3",
   "language": "python",
   "name": "python3"
  },
  "language_info": {
   "codemirror_mode": {
    "name": "ipython",
    "version": 3
   },
   "file_extension": ".py",
   "mimetype": "text/x-python",
   "name": "python",
   "nbconvert_exporter": "python",
   "pygments_lexer": "ipython3",
   "version": "3.10.12"
  },
  "papermill": {
   "default_parameters": {},
   "duration": 12.195047,
   "end_time": "2024-01-16T08:55:48.485580",
   "environment_variables": {},
   "exception": null,
   "input_path": "__notebook__.ipynb",
   "output_path": "__notebook__.ipynb",
   "parameters": {},
   "start_time": "2024-01-16T08:55:36.290533",
   "version": "2.4.0"
  }
 },
 "nbformat": 4,
 "nbformat_minor": 5
}
