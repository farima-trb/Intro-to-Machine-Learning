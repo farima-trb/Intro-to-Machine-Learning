{
 "cells": [
  {
   "cell_type": "markdown",
   "id": "0f33e61d",
   "metadata": {
    "papermill": {
     "duration": 0.006745,
     "end_time": "2024-01-24T08:49:36.418366",
     "exception": false,
     "start_time": "2024-01-24T08:49:36.411621",
     "status": "completed"
    },
    "tags": []
   },
   "source": [
    "**This notebook is an exercise in the [Data Cleaning](https://www.kaggle.com/learn/data-cleaning) course.  You can reference the tutorial at [this link](https://www.kaggle.com/alexisbcook/character-encodings).**\n",
    "\n",
    "---\n"
   ]
  },
  {
   "cell_type": "markdown",
   "id": "e21fba25",
   "metadata": {
    "papermill": {
     "duration": 0.006337,
     "end_time": "2024-01-24T08:49:36.431532",
     "exception": false,
     "start_time": "2024-01-24T08:49:36.425195",
     "status": "completed"
    },
    "tags": []
   },
   "source": [
    "In this exercise, you'll apply what you learned in the **Character encodings** tutorial.\n",
    "\n",
    "# Setup\n",
    "\n",
    "The questions below will give you feedback on your work. Run the following cell to set up the feedback system."
   ]
  },
  {
   "cell_type": "code",
   "execution_count": 1,
   "id": "8341b03c",
   "metadata": {
    "execution": {
     "iopub.execute_input": "2024-01-24T08:49:36.446716Z",
     "iopub.status.busy": "2024-01-24T08:49:36.446307Z",
     "iopub.status.idle": "2024-01-24T08:49:36.997493Z",
     "shell.execute_reply": "2024-01-24T08:49:36.995937Z"
    },
    "papermill": {
     "duration": 0.562541,
     "end_time": "2024-01-24T08:49:37.000425",
     "exception": false,
     "start_time": "2024-01-24T08:49:36.437884",
     "status": "completed"
    },
    "tags": []
   },
   "outputs": [
    {
     "name": "stdout",
     "output_type": "stream",
     "text": [
      "Setup Complete\n"
     ]
    }
   ],
   "source": [
    "from learntools.core import binder\n",
    "binder.bind(globals())\n",
    "from learntools.data_cleaning.ex4 import *\n",
    "print(\"Setup Complete\")"
   ]
  },
  {
   "cell_type": "markdown",
   "id": "fdfeca9d",
   "metadata": {
    "papermill": {
     "duration": 0.007318,
     "end_time": "2024-01-24T08:49:37.014419",
     "exception": false,
     "start_time": "2024-01-24T08:49:37.007101",
     "status": "completed"
    },
    "tags": []
   },
   "source": [
    "# Get our environment set up\n",
    "\n",
    "The first thing we'll need to do is load in the libraries we'll be using."
   ]
  },
  {
   "cell_type": "code",
   "execution_count": 2,
   "id": "87941d9c",
   "metadata": {
    "execution": {
     "iopub.execute_input": "2024-01-24T08:49:37.030268Z",
     "iopub.status.busy": "2024-01-24T08:49:37.028960Z",
     "iopub.status.idle": "2024-01-24T08:49:37.035865Z",
     "shell.execute_reply": "2024-01-24T08:49:37.034285Z"
    },
    "papermill": {
     "duration": 0.017516,
     "end_time": "2024-01-24T08:49:37.038538",
     "exception": false,
     "start_time": "2024-01-24T08:49:37.021022",
     "status": "completed"
    },
    "tags": []
   },
   "outputs": [],
   "source": [
    "# modules we'll use\n",
    "import pandas as pd\n",
    "import numpy as np\n",
    "\n",
    "# helpful character encoding module\n",
    "import charset_normalizer\n",
    "\n",
    "# set seed for reproducibility\n",
    "np.random.seed(0)"
   ]
  },
  {
   "cell_type": "markdown",
   "id": "4e55aa17",
   "metadata": {
    "papermill": {
     "duration": 0.006241,
     "end_time": "2024-01-24T08:49:37.051682",
     "exception": false,
     "start_time": "2024-01-24T08:49:37.045441",
     "status": "completed"
    },
    "tags": []
   },
   "source": [
    "# 1) What are encodings?\n",
    "\n",
    "You're working with a dataset composed of bytes.  Run the code cell below to print a sample entry."
   ]
  },
  {
   "cell_type": "code",
   "execution_count": 3,
   "id": "bfa70aaa",
   "metadata": {
    "execution": {
     "iopub.execute_input": "2024-01-24T08:49:37.067950Z",
     "iopub.status.busy": "2024-01-24T08:49:37.067166Z",
     "iopub.status.idle": "2024-01-24T08:49:37.074688Z",
     "shell.execute_reply": "2024-01-24T08:49:37.072998Z"
    },
    "papermill": {
     "duration": 0.019651,
     "end_time": "2024-01-24T08:49:37.078401",
     "exception": false,
     "start_time": "2024-01-24T08:49:37.058750",
     "status": "completed"
    },
    "tags": []
   },
   "outputs": [
    {
     "name": "stdout",
     "output_type": "stream",
     "text": [
      "b'\\xa7A\\xa6n'\n",
      "data type: <class 'bytes'>\n"
     ]
    }
   ],
   "source": [
    "sample_entry = b'\\xa7A\\xa6n'\n",
    "print(sample_entry)\n",
    "print('data type:', type(sample_entry))"
   ]
  },
  {
   "cell_type": "markdown",
   "id": "d7a91c19",
   "metadata": {
    "papermill": {
     "duration": 0.006259,
     "end_time": "2024-01-24T08:49:37.091439",
     "exception": false,
     "start_time": "2024-01-24T08:49:37.085180",
     "status": "completed"
    },
    "tags": []
   },
   "source": [
    "You notice that it doesn't use the standard UTF-8 encoding. \n",
    "\n",
    "Use the next code cell to create a variable `new_entry` that changes the encoding from `\"big5-tw\"` to `\"utf-8\"`.  `new_entry` should have the bytes datatype."
   ]
  },
  {
   "cell_type": "code",
   "execution_count": 4,
   "id": "aafbceea",
   "metadata": {
    "execution": {
     "iopub.execute_input": "2024-01-24T08:49:37.106918Z",
     "iopub.status.busy": "2024-01-24T08:49:37.106512Z",
     "iopub.status.idle": "2024-01-24T08:49:37.118611Z",
     "shell.execute_reply": "2024-01-24T08:49:37.117291Z"
    },
    "papermill": {
     "duration": 0.022847,
     "end_time": "2024-01-24T08:49:37.121088",
     "exception": false,
     "start_time": "2024-01-24T08:49:37.098241",
     "status": "completed"
    },
    "tags": []
   },
   "outputs": [
    {
     "data": {
      "application/javascript": [
       "parent.postMessage({\"jupyterEvent\": \"custom.exercise_interaction\", \"data\": {\"outcomeType\": 1, \"valueTowardsCompletion\": 0.3333333333333333, \"interactionType\": 1, \"questionType\": 1, \"questionId\": \"1_EncodingsIntro\", \"learnToolsVersion\": \"0.3.4\", \"failureMessage\": \"\", \"exceptionClass\": \"\", \"trace\": \"\"}}, \"*\")"
      ],
      "text/plain": [
       "<IPython.core.display.Javascript object>"
      ]
     },
     "metadata": {},
     "output_type": "display_data"
    },
    {
     "data": {
      "text/markdown": [
       "<span style=\"color:#33cc33\">Correct</span>"
      ],
      "text/plain": [
       "Correct"
      ]
     },
     "metadata": {},
     "output_type": "display_data"
    }
   ],
   "source": [
    "sample_entry_decode = sample_entry.decode(\"big5-tw\")\n",
    "new_entry = sample_entry_decode.encode()\n",
    "\n",
    "# Check your answer\n",
    "q1.check()"
   ]
  },
  {
   "cell_type": "code",
   "execution_count": 5,
   "id": "78319a41",
   "metadata": {
    "execution": {
     "iopub.execute_input": "2024-01-24T08:49:37.137405Z",
     "iopub.status.busy": "2024-01-24T08:49:37.136939Z",
     "iopub.status.idle": "2024-01-24T08:49:37.141671Z",
     "shell.execute_reply": "2024-01-24T08:49:37.140398Z"
    },
    "papermill": {
     "duration": 0.015823,
     "end_time": "2024-01-24T08:49:37.144098",
     "exception": false,
     "start_time": "2024-01-24T08:49:37.128275",
     "status": "completed"
    },
    "tags": []
   },
   "outputs": [],
   "source": [
    "# Lines below will give you a hint or solution code\n",
    "#q1.hint()\n",
    "# q1.solution()"
   ]
  },
  {
   "cell_type": "markdown",
   "id": "b06b8069",
   "metadata": {
    "papermill": {
     "duration": 0.007282,
     "end_time": "2024-01-24T08:49:37.158535",
     "exception": false,
     "start_time": "2024-01-24T08:49:37.151253",
     "status": "completed"
    },
    "tags": []
   },
   "source": [
    "# 2) Reading in files with encoding problems\n",
    "\n",
    "Use the code cell below to read in this file at path `\"../input/fatal-police-shootings-in-the-us/PoliceKillingsUS.csv\"`.  \n",
    "\n",
    "Figure out what the correct encoding should be and read in the file to a DataFrame `police_killings`."
   ]
  },
  {
   "cell_type": "code",
   "execution_count": 6,
   "id": "ba847aa1",
   "metadata": {
    "execution": {
     "iopub.execute_input": "2024-01-24T08:49:37.174644Z",
     "iopub.status.busy": "2024-01-24T08:49:37.174205Z",
     "iopub.status.idle": "2024-01-24T08:49:37.203667Z",
     "shell.execute_reply": "2024-01-24T08:49:37.202394Z"
    },
    "papermill": {
     "duration": 0.04091,
     "end_time": "2024-01-24T08:49:37.206663",
     "exception": false,
     "start_time": "2024-01-24T08:49:37.165753",
     "status": "completed"
    },
    "tags": []
   },
   "outputs": [
    {
     "data": {
      "application/javascript": [
       "parent.postMessage({\"jupyterEvent\": \"custom.exercise_interaction\", \"data\": {\"outcomeType\": 1, \"valueTowardsCompletion\": 0.3333333333333333, \"interactionType\": 1, \"questionType\": 1, \"questionId\": \"2_ReadIn\", \"learnToolsVersion\": \"0.3.4\", \"failureMessage\": \"\", \"exceptionClass\": \"\", \"trace\": \"\"}}, \"*\")"
      ],
      "text/plain": [
       "<IPython.core.display.Javascript object>"
      ]
     },
     "metadata": {},
     "output_type": "display_data"
    },
    {
     "data": {
      "text/markdown": [
       "<span style=\"color:#33cc33\">Correct</span>"
      ],
      "text/plain": [
       "Correct"
      ]
     },
     "metadata": {},
     "output_type": "display_data"
    }
   ],
   "source": [
    "# TODO: Load in the DataFrame correctly.\n",
    "police_killings = pd.read_csv(\"../input/fatal-police-shootings-in-the-us/PoliceKillingsUS.csv\", encoding=\"Windows-1252\")\n",
    "\n",
    "# Check your answer\n",
    "q2.check()"
   ]
  },
  {
   "cell_type": "markdown",
   "id": "6fe4d097",
   "metadata": {
    "papermill": {
     "duration": 0.007426,
     "end_time": "2024-01-24T08:49:37.221665",
     "exception": false,
     "start_time": "2024-01-24T08:49:37.214239",
     "status": "completed"
    },
    "tags": []
   },
   "source": [
    "Feel free to use any additional code cells for supplemental work.  To get credit for finishing this question, you'll need to run `q2.check()` and get a result of **Correct**."
   ]
  },
  {
   "cell_type": "code",
   "execution_count": 7,
   "id": "c53ac40a",
   "metadata": {
    "execution": {
     "iopub.execute_input": "2024-01-24T08:49:37.239693Z",
     "iopub.status.busy": "2024-01-24T08:49:37.239038Z",
     "iopub.status.idle": "2024-01-24T08:49:37.259027Z",
     "shell.execute_reply": "2024-01-24T08:49:37.257831Z"
    },
    "papermill": {
     "duration": 0.032539,
     "end_time": "2024-01-24T08:49:37.261995",
     "exception": false,
     "start_time": "2024-01-24T08:49:37.229456",
     "status": "completed"
    },
    "tags": []
   },
   "outputs": [
    {
     "name": "stdout",
     "output_type": "stream",
     "text": [
      "        id                name      date   manner_of_death       armed   age  \\\n",
      "0        3          Tim Elliot  02/01/15              shot         gun  53.0   \n",
      "1        4    Lewis Lee Lembke  02/01/15              shot         gun  47.0   \n",
      "2        5  John Paul Quintero  03/01/15  shot and Tasered     unarmed  23.0   \n",
      "3        8     Matthew Hoffman  04/01/15              shot  toy weapon  32.0   \n",
      "4        9   Michael Rodriguez  04/01/15              shot    nail gun  39.0   \n",
      "...    ...                 ...       ...               ...         ...   ...   \n",
      "2530  2822    Rodney E. Jacobs  28/07/17              shot         gun  31.0   \n",
      "2531  2813               TK TK  28/07/17              shot     vehicle   NaN   \n",
      "2532  2818  Dennis W. Robinson  29/07/17              shot         gun  48.0   \n",
      "2533  2817       Isaiah Tucker  31/07/17              shot     vehicle  28.0   \n",
      "2534  2815        Dwayne Jeune  31/07/17              shot       knife  32.0   \n",
      "\n",
      "     gender race           city state  signs_of_mental_illness threat_level  \\\n",
      "0         M    A        Shelton    WA                     True       attack   \n",
      "1         M    W          Aloha    OR                    False       attack   \n",
      "2         M    H        Wichita    KS                    False        other   \n",
      "3         M    W  San Francisco    CA                     True       attack   \n",
      "4         M    H          Evans    CO                    False       attack   \n",
      "...     ...  ...            ...   ...                      ...          ...   \n",
      "2530      M  NaN    Kansas City    MO                    False       attack   \n",
      "2531      M  NaN    Albuquerque    NM                    False       attack   \n",
      "2532      M  NaN          Melba    ID                    False       attack   \n",
      "2533      M    B        Oshkosh    WI                    False       attack   \n",
      "2534      M    B       Brooklyn    NY                     True       attack   \n",
      "\n",
      "             flee  body_camera  \n",
      "0     Not fleeing        False  \n",
      "1     Not fleeing        False  \n",
      "2     Not fleeing        False  \n",
      "3     Not fleeing        False  \n",
      "4     Not fleeing        False  \n",
      "...           ...          ...  \n",
      "2530  Not fleeing        False  \n",
      "2531          Car        False  \n",
      "2532          Car        False  \n",
      "2533          Car         True  \n",
      "2534  Not fleeing        False  \n",
      "\n",
      "[2535 rows x 14 columns]\n"
     ]
    }
   ],
   "source": [
    "# (Optional) Use this code cell for any additional work.\n",
    "print(police_killings)"
   ]
  },
  {
   "cell_type": "code",
   "execution_count": 8,
   "id": "1074dec4",
   "metadata": {
    "execution": {
     "iopub.execute_input": "2024-01-24T08:49:37.278907Z",
     "iopub.status.busy": "2024-01-24T08:49:37.278495Z",
     "iopub.status.idle": "2024-01-24T08:49:37.284199Z",
     "shell.execute_reply": "2024-01-24T08:49:37.282773Z"
    },
    "papermill": {
     "duration": 0.017409,
     "end_time": "2024-01-24T08:49:37.286895",
     "exception": false,
     "start_time": "2024-01-24T08:49:37.269486",
     "status": "completed"
    },
    "tags": []
   },
   "outputs": [],
   "source": [
    "# Lines below will give you a hint or solution code\n",
    "#q2.hint()\n",
    "# q2.solution()"
   ]
  },
  {
   "cell_type": "markdown",
   "id": "b6b28265",
   "metadata": {
    "papermill": {
     "duration": 0.007655,
     "end_time": "2024-01-24T08:49:37.302225",
     "exception": false,
     "start_time": "2024-01-24T08:49:37.294570",
     "status": "completed"
    },
    "tags": []
   },
   "source": [
    "# 3) Saving your files with UTF-8 encoding\n",
    "\n",
    "Save a version of the police killings dataset to CSV with UTF-8 encoding.  Your answer will be marked correct after saving this file.  \n",
    "\n",
    "Note: When using the `to_csv()` method, supply only the name of the file (e.g., `\"my_file.csv\"`).  This saves the file at the filepath `\"/kaggle/working/my_file.csv\"`."
   ]
  },
  {
   "cell_type": "code",
   "execution_count": 9,
   "id": "d25d1b97",
   "metadata": {
    "execution": {
     "iopub.execute_input": "2024-01-24T08:49:37.320151Z",
     "iopub.status.busy": "2024-01-24T08:49:37.319113Z",
     "iopub.status.idle": "2024-01-24T08:49:37.374051Z",
     "shell.execute_reply": "2024-01-24T08:49:37.372824Z"
    },
    "papermill": {
     "duration": 0.067109,
     "end_time": "2024-01-24T08:49:37.376776",
     "exception": false,
     "start_time": "2024-01-24T08:49:37.309667",
     "status": "completed"
    },
    "tags": []
   },
   "outputs": [
    {
     "data": {
      "application/javascript": [
       "parent.postMessage({\"jupyterEvent\": \"custom.exercise_interaction\", \"data\": {\"outcomeType\": 1, \"valueTowardsCompletion\": 0.3333333333333333, \"interactionType\": 1, \"questionType\": 2, \"questionId\": \"3_SaveCSV\", \"learnToolsVersion\": \"0.3.4\", \"failureMessage\": \"\", \"exceptionClass\": \"\", \"trace\": \"\"}}, \"*\")"
      ],
      "text/plain": [
       "<IPython.core.display.Javascript object>"
      ]
     },
     "metadata": {},
     "output_type": "display_data"
    },
    {
     "data": {
      "text/markdown": [
       "<span style=\"color:#33cc33\">Correct</span>"
      ],
      "text/plain": [
       "Correct"
      ]
     },
     "metadata": {},
     "output_type": "display_data"
    }
   ],
   "source": [
    "# TODO: Save the police killings dataset to CSV\n",
    "police_killings.to_csv(\"my_file.csv\")\n",
    "\n",
    "# Check your answer\n",
    "q3.check()"
   ]
  },
  {
   "cell_type": "code",
   "execution_count": 10,
   "id": "36eaebd5",
   "metadata": {
    "execution": {
     "iopub.execute_input": "2024-01-24T08:49:37.394224Z",
     "iopub.status.busy": "2024-01-24T08:49:37.393798Z",
     "iopub.status.idle": "2024-01-24T08:49:37.398845Z",
     "shell.execute_reply": "2024-01-24T08:49:37.397678Z"
    },
    "papermill": {
     "duration": 0.016795,
     "end_time": "2024-01-24T08:49:37.401391",
     "exception": false,
     "start_time": "2024-01-24T08:49:37.384596",
     "status": "completed"
    },
    "tags": []
   },
   "outputs": [],
   "source": [
    "# Lines below will give you a hint or solution code\n",
    "#q3.hint()\n",
    "# q3.solution()"
   ]
  },
  {
   "cell_type": "markdown",
   "id": "3f3b9234",
   "metadata": {
    "papermill": {
     "duration": 0.008285,
     "end_time": "2024-01-24T08:49:37.417938",
     "exception": false,
     "start_time": "2024-01-24T08:49:37.409653",
     "status": "completed"
    },
    "tags": []
   },
   "source": [
    "# (Optional) More practice\n",
    "\n",
    "Check out [this dataset of files in different character encodings](https://www.kaggle.com/rtatman/character-encoding-examples). Can you read in all the files with their original encodings and them save them out as UTF-8 files?\n",
    "\n",
    "If you have a file that's in UTF-8 but has just a couple of weird-looking characters in it, you can try out the [ftfy module](https://ftfy.readthedocs.io/en/latest/#) and see if it helps. \n",
    "\n",
    "# Keep going\n",
    "\n",
    "In the final lesson, learn how to [**clean up inconsistent text entries**](https://www.kaggle.com/alexisbcook/inconsistent-data-entry) in your dataset."
   ]
  },
  {
   "cell_type": "markdown",
   "id": "bca8452a",
   "metadata": {
    "papermill": {
     "duration": 0.008248,
     "end_time": "2024-01-24T08:49:37.434709",
     "exception": false,
     "start_time": "2024-01-24T08:49:37.426461",
     "status": "completed"
    },
    "tags": []
   },
   "source": [
    "---\n",
    "\n",
    "\n",
    "\n",
    "\n",
    "*Have questions or comments? Visit the [course discussion forum](https://www.kaggle.com/learn/data-cleaning/discussion) to chat with other learners.*"
   ]
  }
 ],
 "metadata": {
  "kaggle": {
   "accelerator": "none",
   "dataSources": [
    {
     "datasetId": 2647,
     "sourceId": 4395,
     "sourceType": "datasetVersion"
    }
   ],
   "isGpuEnabled": false,
   "isInternetEnabled": false,
   "language": "python",
   "sourceType": "notebook"
  },
  "kernelspec": {
   "display_name": "Python 3",
   "language": "python",
   "name": "python3"
  },
  "language_info": {
   "codemirror_mode": {
    "name": "ipython",
    "version": 3
   },
   "file_extension": ".py",
   "mimetype": "text/x-python",
   "name": "python",
   "nbconvert_exporter": "python",
   "pygments_lexer": "ipython3",
   "version": "3.10.12"
  },
  "papermill": {
   "default_parameters": {},
   "duration": 5.202865,
   "end_time": "2024-01-24T08:49:37.964254",
   "environment_variables": {},
   "exception": null,
   "input_path": "__notebook__.ipynb",
   "output_path": "__notebook__.ipynb",
   "parameters": {},
   "start_time": "2024-01-24T08:49:32.761389",
   "version": "2.4.0"
  }
 },
 "nbformat": 4,
 "nbformat_minor": 5
}
