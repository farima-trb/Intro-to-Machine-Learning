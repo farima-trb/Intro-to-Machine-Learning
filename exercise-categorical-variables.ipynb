{
 "cells": [
  {
   "cell_type": "markdown",
   "id": "a615fe94",
   "metadata": {
    "papermill": {
     "duration": 0.013996,
     "end_time": "2024-01-10T17:05:40.777831",
     "exception": false,
     "start_time": "2024-01-10T17:05:40.763835",
     "status": "completed"
    },
    "tags": []
   },
   "source": [
    "**This notebook is an exercise in the [Intermediate Machine Learning](https://www.kaggle.com/learn/intermediate-machine-learning) course.  You can reference the tutorial at [this link](https://www.kaggle.com/alexisbcook/categorical-variables).**\n",
    "\n",
    "---\n"
   ]
  },
  {
   "cell_type": "markdown",
   "id": "c5fb7e05",
   "metadata": {
    "papermill": {
     "duration": 0.012778,
     "end_time": "2024-01-10T17:05:40.803862",
     "exception": false,
     "start_time": "2024-01-10T17:05:40.791084",
     "status": "completed"
    },
    "tags": []
   },
   "source": [
    "By encoding **categorical variables**, you'll obtain your best results thus far!\n",
    "\n",
    "# Setup\n",
    "\n",
    "The questions below will give you feedback on your work. Run the following cell to set up the feedback system."
   ]
  },
  {
   "cell_type": "code",
   "execution_count": 1,
   "id": "274bee45",
   "metadata": {
    "execution": {
     "iopub.execute_input": "2024-01-10T17:05:40.832955Z",
     "iopub.status.busy": "2024-01-10T17:05:40.832513Z",
     "iopub.status.idle": "2024-01-10T17:05:41.334285Z",
     "shell.execute_reply": "2024-01-10T17:05:41.333105Z"
    },
    "papermill": {
     "duration": 0.520049,
     "end_time": "2024-01-10T17:05:41.337064",
     "exception": false,
     "start_time": "2024-01-10T17:05:40.817015",
     "status": "completed"
    },
    "tags": []
   },
   "outputs": [
    {
     "name": "stdout",
     "output_type": "stream",
     "text": [
      "Setup Complete\n"
     ]
    }
   ],
   "source": [
    "# Set up code checking\n",
    "import os\n",
    "if not os.path.exists(\"../input/train.csv\"):\n",
    "    os.symlink(\"../input/home-data-for-ml-course/train.csv\", \"../input/train.csv\")  \n",
    "    os.symlink(\"../input/home-data-for-ml-course/test.csv\", \"../input/test.csv\") \n",
    "from learntools.core import binder\n",
    "binder.bind(globals())\n",
    "from learntools.ml_intermediate.ex3 import *\n",
    "print(\"Setup Complete\")"
   ]
  },
  {
   "cell_type": "markdown",
   "id": "c042effc",
   "metadata": {
    "papermill": {
     "duration": 0.013052,
     "end_time": "2024-01-10T17:05:41.363562",
     "exception": false,
     "start_time": "2024-01-10T17:05:41.350510",
     "status": "completed"
    },
    "tags": []
   },
   "source": [
    "In this exercise, you will work with data from the [Housing Prices Competition for Kaggle Learn Users](https://www.kaggle.com/c/home-data-for-ml-course). \n",
    "\n",
    "![Ames Housing dataset image](https://storage.googleapis.com/kaggle-media/learn/images/lTJVG4e.png)\n",
    "\n",
    "Run the next code cell without changes to load the training and validation sets in `X_train`, `X_valid`, `y_train`, and `y_valid`.  The test set is loaded in `X_test`."
   ]
  },
  {
   "cell_type": "code",
   "execution_count": 2,
   "id": "53041048",
   "metadata": {
    "execution": {
     "iopub.execute_input": "2024-01-10T17:05:41.392358Z",
     "iopub.status.busy": "2024-01-10T17:05:41.391784Z",
     "iopub.status.idle": "2024-01-10T17:05:43.227977Z",
     "shell.execute_reply": "2024-01-10T17:05:43.226995Z"
    },
    "papermill": {
     "duration": 1.854378,
     "end_time": "2024-01-10T17:05:43.231206",
     "exception": false,
     "start_time": "2024-01-10T17:05:41.376828",
     "status": "completed"
    },
    "tags": []
   },
   "outputs": [],
   "source": [
    "import pandas as pd\n",
    "from sklearn.model_selection import train_test_split\n",
    "\n",
    "# Read the data\n",
    "X = pd.read_csv('../input/train.csv', index_col='Id') \n",
    "X_test = pd.read_csv('../input/test.csv', index_col='Id')\n",
    "\n",
    "# Remove rows with missing target, separate target from predictors\n",
    "X.dropna(axis=0, subset=['SalePrice'], inplace=True)\n",
    "y = X.SalePrice\n",
    "X.drop(['SalePrice'], axis=1, inplace=True)\n",
    "\n",
    "# To keep things simple, we'll drop columns with missing values\n",
    "cols_with_missing = [col for col in X.columns if X[col].isnull().any()] \n",
    "X.drop(cols_with_missing, axis=1, inplace=True)\n",
    "X_test.drop(cols_with_missing, axis=1, inplace=True)\n",
    "\n",
    "# Break off validation set from training data\n",
    "X_train, X_valid, y_train, y_valid = train_test_split(X, y,\n",
    "                                                      train_size=0.8, test_size=0.2,\n",
    "                                                      random_state=0)"
   ]
  },
  {
   "cell_type": "markdown",
   "id": "28bae959",
   "metadata": {
    "papermill": {
     "duration": 0.014724,
     "end_time": "2024-01-10T17:05:43.260489",
     "exception": false,
     "start_time": "2024-01-10T17:05:43.245765",
     "status": "completed"
    },
    "tags": []
   },
   "source": [
    "Use the next code cell to print the first five rows of the data."
   ]
  },
  {
   "cell_type": "code",
   "execution_count": 3,
   "id": "231369f6",
   "metadata": {
    "execution": {
     "iopub.execute_input": "2024-01-10T17:05:43.293916Z",
     "iopub.status.busy": "2024-01-10T17:05:43.293385Z",
     "iopub.status.idle": "2024-01-10T17:05:43.302886Z",
     "shell.execute_reply": "2024-01-10T17:05:43.301606Z"
    },
    "papermill": {
     "duration": 0.0282,
     "end_time": "2024-01-10T17:05:43.305627",
     "exception": false,
     "start_time": "2024-01-10T17:05:43.277427",
     "status": "completed"
    },
    "tags": []
   },
   "outputs": [
    {
     "data": {
      "text/plain": [
       "Index(['MSSubClass', 'MSZoning', 'LotArea', 'Street', 'LotShape',\n",
       "       'LandContour', 'Utilities', 'LotConfig', 'LandSlope', 'Neighborhood',\n",
       "       'Condition1', 'Condition2', 'BldgType', 'HouseStyle', 'OverallQual',\n",
       "       'OverallCond', 'YearBuilt', 'YearRemodAdd', 'RoofStyle', 'RoofMatl',\n",
       "       'Exterior1st', 'Exterior2nd', 'ExterQual', 'ExterCond', 'Foundation',\n",
       "       'BsmtFinSF1', 'BsmtFinSF2', 'BsmtUnfSF', 'TotalBsmtSF', 'Heating',\n",
       "       'HeatingQC', 'CentralAir', '1stFlrSF', '2ndFlrSF', 'LowQualFinSF',\n",
       "       'GrLivArea', 'BsmtFullBath', 'BsmtHalfBath', 'FullBath', 'HalfBath',\n",
       "       'BedroomAbvGr', 'KitchenAbvGr', 'KitchenQual', 'TotRmsAbvGrd',\n",
       "       'Functional', 'Fireplaces', 'GarageCars', 'GarageArea', 'PavedDrive',\n",
       "       'WoodDeckSF', 'OpenPorchSF', 'EnclosedPorch', '3SsnPorch',\n",
       "       'ScreenPorch', 'PoolArea', 'MiscVal', 'MoSold', 'YrSold', 'SaleType',\n",
       "       'SaleCondition'],\n",
       "      dtype='object')"
      ]
     },
     "execution_count": 3,
     "metadata": {},
     "output_type": "execute_result"
    }
   ],
   "source": [
    "X_train.columns"
   ]
  },
  {
   "cell_type": "code",
   "execution_count": 4,
   "id": "fa8b5cc3",
   "metadata": {
    "execution": {
     "iopub.execute_input": "2024-01-10T17:05:43.335921Z",
     "iopub.status.busy": "2024-01-10T17:05:43.335241Z",
     "iopub.status.idle": "2024-01-10T17:05:43.364182Z",
     "shell.execute_reply": "2024-01-10T17:05:43.362923Z"
    },
    "papermill": {
     "duration": 0.047102,
     "end_time": "2024-01-10T17:05:43.366974",
     "exception": false,
     "start_time": "2024-01-10T17:05:43.319872",
     "status": "completed"
    },
    "tags": []
   },
   "outputs": [
    {
     "data": {
      "text/html": [
       "<div>\n",
       "<style scoped>\n",
       "    .dataframe tbody tr th:only-of-type {\n",
       "        vertical-align: middle;\n",
       "    }\n",
       "\n",
       "    .dataframe tbody tr th {\n",
       "        vertical-align: top;\n",
       "    }\n",
       "\n",
       "    .dataframe thead th {\n",
       "        text-align: right;\n",
       "    }\n",
       "</style>\n",
       "<table border=\"1\" class=\"dataframe\">\n",
       "  <thead>\n",
       "    <tr style=\"text-align: right;\">\n",
       "      <th></th>\n",
       "      <th>MSSubClass</th>\n",
       "      <th>MSZoning</th>\n",
       "      <th>LotArea</th>\n",
       "      <th>Street</th>\n",
       "      <th>LotShape</th>\n",
       "      <th>LandContour</th>\n",
       "      <th>Utilities</th>\n",
       "      <th>LotConfig</th>\n",
       "      <th>LandSlope</th>\n",
       "      <th>Neighborhood</th>\n",
       "      <th>...</th>\n",
       "      <th>OpenPorchSF</th>\n",
       "      <th>EnclosedPorch</th>\n",
       "      <th>3SsnPorch</th>\n",
       "      <th>ScreenPorch</th>\n",
       "      <th>PoolArea</th>\n",
       "      <th>MiscVal</th>\n",
       "      <th>MoSold</th>\n",
       "      <th>YrSold</th>\n",
       "      <th>SaleType</th>\n",
       "      <th>SaleCondition</th>\n",
       "    </tr>\n",
       "    <tr>\n",
       "      <th>Id</th>\n",
       "      <th></th>\n",
       "      <th></th>\n",
       "      <th></th>\n",
       "      <th></th>\n",
       "      <th></th>\n",
       "      <th></th>\n",
       "      <th></th>\n",
       "      <th></th>\n",
       "      <th></th>\n",
       "      <th></th>\n",
       "      <th></th>\n",
       "      <th></th>\n",
       "      <th></th>\n",
       "      <th></th>\n",
       "      <th></th>\n",
       "      <th></th>\n",
       "      <th></th>\n",
       "      <th></th>\n",
       "      <th></th>\n",
       "      <th></th>\n",
       "      <th></th>\n",
       "    </tr>\n",
       "  </thead>\n",
       "  <tbody>\n",
       "    <tr>\n",
       "      <th>619</th>\n",
       "      <td>20</td>\n",
       "      <td>RL</td>\n",
       "      <td>11694</td>\n",
       "      <td>Pave</td>\n",
       "      <td>Reg</td>\n",
       "      <td>Lvl</td>\n",
       "      <td>AllPub</td>\n",
       "      <td>Inside</td>\n",
       "      <td>Gtl</td>\n",
       "      <td>NridgHt</td>\n",
       "      <td>...</td>\n",
       "      <td>108</td>\n",
       "      <td>0</td>\n",
       "      <td>0</td>\n",
       "      <td>260</td>\n",
       "      <td>0</td>\n",
       "      <td>0</td>\n",
       "      <td>7</td>\n",
       "      <td>2007</td>\n",
       "      <td>New</td>\n",
       "      <td>Partial</td>\n",
       "    </tr>\n",
       "    <tr>\n",
       "      <th>871</th>\n",
       "      <td>20</td>\n",
       "      <td>RL</td>\n",
       "      <td>6600</td>\n",
       "      <td>Pave</td>\n",
       "      <td>Reg</td>\n",
       "      <td>Lvl</td>\n",
       "      <td>AllPub</td>\n",
       "      <td>Inside</td>\n",
       "      <td>Gtl</td>\n",
       "      <td>NAmes</td>\n",
       "      <td>...</td>\n",
       "      <td>0</td>\n",
       "      <td>0</td>\n",
       "      <td>0</td>\n",
       "      <td>0</td>\n",
       "      <td>0</td>\n",
       "      <td>0</td>\n",
       "      <td>8</td>\n",
       "      <td>2009</td>\n",
       "      <td>WD</td>\n",
       "      <td>Normal</td>\n",
       "    </tr>\n",
       "    <tr>\n",
       "      <th>93</th>\n",
       "      <td>30</td>\n",
       "      <td>RL</td>\n",
       "      <td>13360</td>\n",
       "      <td>Pave</td>\n",
       "      <td>IR1</td>\n",
       "      <td>HLS</td>\n",
       "      <td>AllPub</td>\n",
       "      <td>Inside</td>\n",
       "      <td>Gtl</td>\n",
       "      <td>Crawfor</td>\n",
       "      <td>...</td>\n",
       "      <td>0</td>\n",
       "      <td>44</td>\n",
       "      <td>0</td>\n",
       "      <td>0</td>\n",
       "      <td>0</td>\n",
       "      <td>0</td>\n",
       "      <td>8</td>\n",
       "      <td>2009</td>\n",
       "      <td>WD</td>\n",
       "      <td>Normal</td>\n",
       "    </tr>\n",
       "    <tr>\n",
       "      <th>818</th>\n",
       "      <td>20</td>\n",
       "      <td>RL</td>\n",
       "      <td>13265</td>\n",
       "      <td>Pave</td>\n",
       "      <td>IR1</td>\n",
       "      <td>Lvl</td>\n",
       "      <td>AllPub</td>\n",
       "      <td>CulDSac</td>\n",
       "      <td>Gtl</td>\n",
       "      <td>Mitchel</td>\n",
       "      <td>...</td>\n",
       "      <td>59</td>\n",
       "      <td>0</td>\n",
       "      <td>0</td>\n",
       "      <td>0</td>\n",
       "      <td>0</td>\n",
       "      <td>0</td>\n",
       "      <td>7</td>\n",
       "      <td>2008</td>\n",
       "      <td>WD</td>\n",
       "      <td>Normal</td>\n",
       "    </tr>\n",
       "    <tr>\n",
       "      <th>303</th>\n",
       "      <td>20</td>\n",
       "      <td>RL</td>\n",
       "      <td>13704</td>\n",
       "      <td>Pave</td>\n",
       "      <td>IR1</td>\n",
       "      <td>Lvl</td>\n",
       "      <td>AllPub</td>\n",
       "      <td>Corner</td>\n",
       "      <td>Gtl</td>\n",
       "      <td>CollgCr</td>\n",
       "      <td>...</td>\n",
       "      <td>81</td>\n",
       "      <td>0</td>\n",
       "      <td>0</td>\n",
       "      <td>0</td>\n",
       "      <td>0</td>\n",
       "      <td>0</td>\n",
       "      <td>1</td>\n",
       "      <td>2006</td>\n",
       "      <td>WD</td>\n",
       "      <td>Normal</td>\n",
       "    </tr>\n",
       "  </tbody>\n",
       "</table>\n",
       "<p>5 rows × 60 columns</p>\n",
       "</div>"
      ],
      "text/plain": [
       "     MSSubClass MSZoning  LotArea Street LotShape LandContour Utilities  \\\n",
       "Id                                                                        \n",
       "619          20       RL    11694   Pave      Reg         Lvl    AllPub   \n",
       "871          20       RL     6600   Pave      Reg         Lvl    AllPub   \n",
       "93           30       RL    13360   Pave      IR1         HLS    AllPub   \n",
       "818          20       RL    13265   Pave      IR1         Lvl    AllPub   \n",
       "303          20       RL    13704   Pave      IR1         Lvl    AllPub   \n",
       "\n",
       "    LotConfig LandSlope Neighborhood  ... OpenPorchSF EnclosedPorch 3SsnPorch  \\\n",
       "Id                                    ...                                       \n",
       "619    Inside       Gtl      NridgHt  ...         108             0         0   \n",
       "871    Inside       Gtl        NAmes  ...           0             0         0   \n",
       "93     Inside       Gtl      Crawfor  ...           0            44         0   \n",
       "818   CulDSac       Gtl      Mitchel  ...          59             0         0   \n",
       "303    Corner       Gtl      CollgCr  ...          81             0         0   \n",
       "\n",
       "    ScreenPorch  PoolArea  MiscVal  MoSold  YrSold SaleType SaleCondition  \n",
       "Id                                                                         \n",
       "619         260         0        0       7    2007      New       Partial  \n",
       "871           0         0        0       8    2009       WD        Normal  \n",
       "93            0         0        0       8    2009       WD        Normal  \n",
       "818           0         0        0       7    2008       WD        Normal  \n",
       "303           0         0        0       1    2006       WD        Normal  \n",
       "\n",
       "[5 rows x 60 columns]"
      ]
     },
     "execution_count": 4,
     "metadata": {},
     "output_type": "execute_result"
    }
   ],
   "source": [
    "X_train.head()"
   ]
  },
  {
   "cell_type": "markdown",
   "id": "81839d2a",
   "metadata": {
    "papermill": {
     "duration": 0.013647,
     "end_time": "2024-01-10T17:05:43.394762",
     "exception": false,
     "start_time": "2024-01-10T17:05:43.381115",
     "status": "completed"
    },
    "tags": []
   },
   "source": [
    "Notice that the dataset contains both numerical and categorical variables.  You'll need to encode the categorical data before training a model.\n",
    "\n",
    "To compare different models, you'll use the same `score_dataset()` function from the tutorial.  This function reports the [mean absolute error](https://en.wikipedia.org/wiki/Mean_absolute_error) (MAE) from a random forest model."
   ]
  },
  {
   "cell_type": "code",
   "execution_count": 5,
   "id": "53e8cccf",
   "metadata": {
    "execution": {
     "iopub.execute_input": "2024-01-10T17:05:43.426561Z",
     "iopub.status.busy": "2024-01-10T17:05:43.426133Z",
     "iopub.status.idle": "2024-01-10T17:05:43.844299Z",
     "shell.execute_reply": "2024-01-10T17:05:43.843009Z"
    },
    "papermill": {
     "duration": 0.438551,
     "end_time": "2024-01-10T17:05:43.847252",
     "exception": false,
     "start_time": "2024-01-10T17:05:43.408701",
     "status": "completed"
    },
    "tags": []
   },
   "outputs": [],
   "source": [
    "from sklearn.ensemble import RandomForestRegressor\n",
    "from sklearn.metrics import mean_absolute_error\n",
    "\n",
    "# function for comparing different approaches\n",
    "def score_dataset(X_train, X_valid, y_train, y_valid):\n",
    "    model = RandomForestRegressor(n_estimators=100, random_state=0)\n",
    "    model.fit(X_train, y_train)\n",
    "    preds = model.predict(X_valid)\n",
    "    return mean_absolute_error(y_valid, preds)"
   ]
  },
  {
   "cell_type": "markdown",
   "id": "8082494e",
   "metadata": {
    "papermill": {
     "duration": 0.014756,
     "end_time": "2024-01-10T17:05:43.876008",
     "exception": false,
     "start_time": "2024-01-10T17:05:43.861252",
     "status": "completed"
    },
    "tags": []
   },
   "source": [
    "# Step 1: Drop columns with categorical data\n",
    "\n",
    "You'll get started with the most straightforward approach.  Use the code cell below to preprocess the data in `X_train` and `X_valid` to remove columns with categorical data.  Set the preprocessed DataFrames to `drop_X_train` and `drop_X_valid`, respectively.  "
   ]
  },
  {
   "cell_type": "code",
   "execution_count": 6,
   "id": "bf4fb6b0",
   "metadata": {
    "execution": {
     "iopub.execute_input": "2024-01-10T17:05:43.905773Z",
     "iopub.status.busy": "2024-01-10T17:05:43.905370Z",
     "iopub.status.idle": "2024-01-10T17:05:43.915872Z",
     "shell.execute_reply": "2024-01-10T17:05:43.915028Z"
    },
    "papermill": {
     "duration": 0.028504,
     "end_time": "2024-01-10T17:05:43.918331",
     "exception": false,
     "start_time": "2024-01-10T17:05:43.889827",
     "status": "completed"
    },
    "tags": []
   },
   "outputs": [
    {
     "data": {
      "application/javascript": [
       "parent.postMessage({\"jupyterEvent\": \"custom.exercise_interaction\", \"data\": {\"outcomeType\": 1, \"valueTowardsCompletion\": 0.5, \"interactionType\": 1, \"questionType\": 2, \"questionId\": \"1_Drop\", \"learnToolsVersion\": \"0.3.4\", \"failureMessage\": \"\", \"exceptionClass\": \"\", \"trace\": \"\"}}, \"*\")"
      ],
      "text/plain": [
       "<IPython.core.display.Javascript object>"
      ]
     },
     "metadata": {},
     "output_type": "display_data"
    },
    {
     "data": {
      "text/markdown": [
       "<span style=\"color:#33cc33\">Correct</span>"
      ],
      "text/plain": [
       "Correct"
      ]
     },
     "metadata": {},
     "output_type": "display_data"
    }
   ],
   "source": [
    "# Fill in the lines below: drop columns in training and validation data\n",
    "drop_X_train = X_train.select_dtypes(exclude=[\"object\"])\n",
    "drop_X_valid = X_valid.select_dtypes(exclude=[\"object\"])\n",
    "\n",
    "# Check your answers\n",
    "step_1.check()"
   ]
  },
  {
   "cell_type": "code",
   "execution_count": 7,
   "id": "beec5f05",
   "metadata": {
    "execution": {
     "iopub.execute_input": "2024-01-10T17:05:43.950450Z",
     "iopub.status.busy": "2024-01-10T17:05:43.949655Z",
     "iopub.status.idle": "2024-01-10T17:05:43.955391Z",
     "shell.execute_reply": "2024-01-10T17:05:43.954160Z"
    },
    "papermill": {
     "duration": 0.024624,
     "end_time": "2024-01-10T17:05:43.958212",
     "exception": false,
     "start_time": "2024-01-10T17:05:43.933588",
     "status": "completed"
    },
    "tags": []
   },
   "outputs": [],
   "source": [
    "# Lines below will give you a hint or solution code\n",
    "#step_1.hint()\n",
    "#step_1.solution()"
   ]
  },
  {
   "cell_type": "markdown",
   "id": "fedf3f69",
   "metadata": {
    "papermill": {
     "duration": 0.01382,
     "end_time": "2024-01-10T17:05:43.986118",
     "exception": false,
     "start_time": "2024-01-10T17:05:43.972298",
     "status": "completed"
    },
    "tags": []
   },
   "source": [
    "Run the next code cell to get the MAE for this approach."
   ]
  },
  {
   "cell_type": "code",
   "execution_count": 8,
   "id": "8094af8c",
   "metadata": {
    "execution": {
     "iopub.execute_input": "2024-01-10T17:05:44.017198Z",
     "iopub.status.busy": "2024-01-10T17:05:44.015842Z",
     "iopub.status.idle": "2024-01-10T17:05:45.388046Z",
     "shell.execute_reply": "2024-01-10T17:05:45.386139Z"
    },
    "papermill": {
     "duration": 1.391002,
     "end_time": "2024-01-10T17:05:45.391213",
     "exception": false,
     "start_time": "2024-01-10T17:05:44.000211",
     "status": "completed"
    },
    "tags": []
   },
   "outputs": [
    {
     "name": "stdout",
     "output_type": "stream",
     "text": [
      "MAE from Approach 1 (Drop categorical variables):\n",
      "17837.82570776256\n"
     ]
    }
   ],
   "source": [
    "print(\"MAE from Approach 1 (Drop categorical variables):\")\n",
    "print(score_dataset(drop_X_train, drop_X_valid, y_train, y_valid))"
   ]
  },
  {
   "cell_type": "markdown",
   "id": "b9da81ab",
   "metadata": {
    "papermill": {
     "duration": 0.015124,
     "end_time": "2024-01-10T17:05:45.425303",
     "exception": false,
     "start_time": "2024-01-10T17:05:45.410179",
     "status": "completed"
    },
    "tags": []
   },
   "source": [
    "Before jumping into ordinal encoding, we'll investigate the dataset.  Specifically, we'll look at the `'Condition2'` column.  The code cell below prints the unique entries in both the training and validation sets."
   ]
  },
  {
   "cell_type": "code",
   "execution_count": 9,
   "id": "8941e87a",
   "metadata": {
    "execution": {
     "iopub.execute_input": "2024-01-10T17:05:45.457871Z",
     "iopub.status.busy": "2024-01-10T17:05:45.456984Z",
     "iopub.status.idle": "2024-01-10T17:05:45.468384Z",
     "shell.execute_reply": "2024-01-10T17:05:45.466880Z"
    },
    "papermill": {
     "duration": 0.031793,
     "end_time": "2024-01-10T17:05:45.471621",
     "exception": false,
     "start_time": "2024-01-10T17:05:45.439828",
     "status": "completed"
    },
    "tags": []
   },
   "outputs": [
    {
     "name": "stdout",
     "output_type": "stream",
     "text": [
      "Unique values in 'Condition2' column in training data: ['Norm' 'PosA' 'Feedr' 'PosN' 'Artery' 'RRAe']\n",
      "\n",
      "Unique values in 'Condition2' column in validation data: ['Norm' 'RRAn' 'RRNn' 'Artery' 'Feedr' 'PosN']\n"
     ]
    }
   ],
   "source": [
    "print(\"Unique values in 'Condition2' column in training data:\", X_train['Condition2'].unique())\n",
    "print(\"\\nUnique values in 'Condition2' column in validation data:\", X_valid['Condition2'].unique())"
   ]
  },
  {
   "cell_type": "markdown",
   "id": "16eceeca",
   "metadata": {
    "papermill": {
     "duration": 0.014716,
     "end_time": "2024-01-10T17:05:45.501830",
     "exception": false,
     "start_time": "2024-01-10T17:05:45.487114",
     "status": "completed"
    },
    "tags": []
   },
   "source": [
    "# Step 2: Ordinal encoding\n",
    "\n",
    "### Part A\n",
    "\n",
    "If you now write code to: \n",
    "- fit an ordinal encoder to the training data, and then \n",
    "- use it to transform both the training and validation data, \n",
    "\n",
    "you'll get an error.  Can you see why this is the case?  (_You'll need  to use the above output to answer this question._)"
   ]
  },
  {
   "cell_type": "code",
   "execution_count": 10,
   "id": "32afd0cb",
   "metadata": {
    "execution": {
     "iopub.execute_input": "2024-01-10T17:05:45.606016Z",
     "iopub.status.busy": "2024-01-10T17:05:45.604851Z",
     "iopub.status.idle": "2024-01-10T17:05:45.614335Z",
     "shell.execute_reply": "2024-01-10T17:05:45.612978Z"
    },
    "papermill": {
     "duration": 0.099754,
     "end_time": "2024-01-10T17:05:45.616923",
     "exception": false,
     "start_time": "2024-01-10T17:05:45.517169",
     "status": "completed"
    },
    "tags": []
   },
   "outputs": [
    {
     "data": {
      "application/javascript": [
       "parent.postMessage({\"jupyterEvent\": \"custom.exercise_interaction\", \"data\": {\"outcomeType\": 1, \"valueTowardsCompletion\": 0.5, \"interactionType\": 1, \"questionType\": 4, \"questionId\": \"2.1_LabelA\", \"learnToolsVersion\": \"0.3.4\", \"failureMessage\": \"\", \"exceptionClass\": \"\", \"trace\": \"\"}}, \"*\")"
      ],
      "text/plain": [
       "<IPython.core.display.Javascript object>"
      ]
     },
     "metadata": {},
     "output_type": "display_data"
    },
    {
     "data": {
      "text/markdown": [
       "<span style=\"color:#33cc33\">Correct:</span> \n",
       "\n",
       "Fitting an ordinal encoder to a column in the training data creates a corresponding integer-valued label for each unique value **that appears in the training data**. In the case that the validation data contains values that don't also appear in the training data, the encoder will throw an error, because these values won't have an integer assigned to them.  Notice that the `'Condition2'` column in the validation data contains the values `'RRAn'` and `'RRNn'`, but these don't appear in the training data -- thus, if we try to use an ordinal encoder with scikit-learn, the code will throw an error."
      ],
      "text/plain": [
       "Correct: \n",
       "\n",
       "Fitting an ordinal encoder to a column in the training data creates a corresponding integer-valued label for each unique value **that appears in the training data**. In the case that the validation data contains values that don't also appear in the training data, the encoder will throw an error, because these values won't have an integer assigned to them.  Notice that the `'Condition2'` column in the validation data contains the values `'RRAn'` and `'RRNn'`, but these don't appear in the training data -- thus, if we try to use an ordinal encoder with scikit-learn, the code will throw an error."
      ]
     },
     "metadata": {},
     "output_type": "display_data"
    }
   ],
   "source": [
    "# Check your answer (Run this code cell to receive credit!)\n",
    "step_2.a.check()"
   ]
  },
  {
   "cell_type": "code",
   "execution_count": 11,
   "id": "26cfe58e",
   "metadata": {
    "execution": {
     "iopub.execute_input": "2024-01-10T17:05:45.655585Z",
     "iopub.status.busy": "2024-01-10T17:05:45.654069Z",
     "iopub.status.idle": "2024-01-10T17:05:45.660046Z",
     "shell.execute_reply": "2024-01-10T17:05:45.659057Z"
    },
    "papermill": {
     "duration": 0.028763,
     "end_time": "2024-01-10T17:05:45.662815",
     "exception": false,
     "start_time": "2024-01-10T17:05:45.634052",
     "status": "completed"
    },
    "tags": []
   },
   "outputs": [],
   "source": [
    "#step_2.a.hint()"
   ]
  },
  {
   "cell_type": "markdown",
   "id": "a355e109",
   "metadata": {
    "papermill": {
     "duration": 0.014791,
     "end_time": "2024-01-10T17:05:45.693122",
     "exception": false,
     "start_time": "2024-01-10T17:05:45.678331",
     "status": "completed"
    },
    "tags": []
   },
   "source": [
    "This is a common problem that you'll encounter with real-world data, and there are many approaches to fixing this issue.  For instance, you can write a custom ordinal encoder to deal with new categories.  The simplest approach, however, is to drop the problematic categorical columns.  \n",
    "\n",
    "Run the code cell below to save the problematic columns to a Python list `bad_label_cols`.  Likewise, columns that can be safely ordinal encoded are stored in `good_label_cols`."
   ]
  },
  {
   "cell_type": "code",
   "execution_count": 12,
   "id": "e7d2ed9d",
   "metadata": {
    "execution": {
     "iopub.execute_input": "2024-01-10T17:05:45.725953Z",
     "iopub.status.busy": "2024-01-10T17:05:45.725222Z",
     "iopub.status.idle": "2024-01-10T17:05:45.743766Z",
     "shell.execute_reply": "2024-01-10T17:05:45.742488Z"
    },
    "papermill": {
     "duration": 0.038776,
     "end_time": "2024-01-10T17:05:45.747136",
     "exception": false,
     "start_time": "2024-01-10T17:05:45.708360",
     "status": "completed"
    },
    "tags": []
   },
   "outputs": [
    {
     "name": "stdout",
     "output_type": "stream",
     "text": [
      "string contain cols:\n",
      " ['MSZoning', 'Street', 'LotShape', 'LandContour', 'Utilities', 'LotConfig', 'LandSlope', 'Neighborhood', 'Condition1', 'Condition2', 'BldgType', 'HouseStyle', 'RoofStyle', 'RoofMatl', 'Exterior1st', 'Exterior2nd', 'ExterQual', 'ExterCond', 'Foundation', 'Heating', 'HeatingQC', 'CentralAir', 'KitchenQual', 'Functional', 'PavedDrive', 'SaleType', 'SaleCondition']\n",
      "\n",
      "Categorical columns that will be ordinal encoded:\n",
      " ['MSZoning', 'Street', 'LotShape', 'LandContour', 'Utilities', 'LotConfig', 'LandSlope', 'Neighborhood', 'Condition1', 'BldgType', 'HouseStyle', 'RoofStyle', 'Exterior1st', 'Exterior2nd', 'ExterQual', 'ExterCond', 'Foundation', 'Heating', 'HeatingQC', 'CentralAir', 'KitchenQual', 'PavedDrive', 'SaleType', 'SaleCondition']\n",
      "\n",
      "Categorical columns that will be dropped from the dataset:\n",
      " ['Functional', 'RoofMatl', 'Condition2']\n"
     ]
    }
   ],
   "source": [
    "# Categorical columns in the training data\n",
    "object_cols = [col for col in X_train.columns if X_train[col].dtype == \"object\"]\n",
    "\n",
    "print('string contain cols:\\n', object_cols)\n",
    "\n",
    "# Columns that can be safely ordinal encoded\n",
    "good_label_cols = [col for col in object_cols if \n",
    "                   set(X_valid[col]).issubset(set(X_train[col]))]\n",
    "        \n",
    "# Problematic columns that will be dropped from the dataset\n",
    "bad_label_cols = list(set(object_cols)-set(good_label_cols))\n",
    "        \n",
    "print('\\nCategorical columns that will be ordinal encoded:\\n', good_label_cols)\n",
    "print('\\nCategorical columns that will be dropped from the dataset:\\n', bad_label_cols)"
   ]
  },
  {
   "cell_type": "markdown",
   "id": "b690e6f2",
   "metadata": {
    "papermill": {
     "duration": 0.016205,
     "end_time": "2024-01-10T17:05:45.783549",
     "exception": false,
     "start_time": "2024-01-10T17:05:45.767344",
     "status": "completed"
    },
    "tags": []
   },
   "source": [
    "### Part B\n",
    "\n",
    "Use the next code cell to ordinal encode the data in `X_train` and `X_valid`.  Set the preprocessed DataFrames to `label_X_train` and `label_X_valid`, respectively.  \n",
    "- We have provided code below to drop the categorical columns in `bad_label_cols` from the dataset. \n",
    "- You should ordinal encode the categorical columns in `good_label_cols`.  "
   ]
  },
  {
   "cell_type": "code",
   "execution_count": 13,
   "id": "9a9f7cce",
   "metadata": {
    "execution": {
     "iopub.execute_input": "2024-01-10T17:05:45.819693Z",
     "iopub.status.busy": "2024-01-10T17:05:45.818671Z",
     "iopub.status.idle": "2024-01-10T17:05:45.876584Z",
     "shell.execute_reply": "2024-01-10T17:05:45.875341Z"
    },
    "papermill": {
     "duration": 0.078385,
     "end_time": "2024-01-10T17:05:45.879306",
     "exception": false,
     "start_time": "2024-01-10T17:05:45.800921",
     "status": "completed"
    },
    "tags": []
   },
   "outputs": [
    {
     "data": {
      "application/javascript": [
       "parent.postMessage({\"jupyterEvent\": \"custom.exercise_interaction\", \"data\": {\"outcomeType\": 1, \"valueTowardsCompletion\": 0.5, \"interactionType\": 1, \"questionType\": 2, \"questionId\": \"2.2_LabelB\", \"learnToolsVersion\": \"0.3.4\", \"failureMessage\": \"\", \"exceptionClass\": \"\", \"trace\": \"\"}}, \"*\")"
      ],
      "text/plain": [
       "<IPython.core.display.Javascript object>"
      ]
     },
     "metadata": {},
     "output_type": "display_data"
    },
    {
     "data": {
      "text/markdown": [
       "<span style=\"color:#33cc33\">Correct</span>"
      ],
      "text/plain": [
       "Correct"
      ]
     },
     "metadata": {},
     "output_type": "display_data"
    }
   ],
   "source": [
    "from sklearn.preprocessing import OrdinalEncoder\n",
    "\n",
    "# Drop categorical columns that will not be encoded\n",
    "label_X_train = X_train.drop(bad_label_cols, axis=1)\n",
    "label_X_valid = X_valid.drop(bad_label_cols, axis=1)\n",
    "\n",
    "# Apply ordinal encoder \n",
    "# Your code here\n",
    "OE_model = OrdinalEncoder()\n",
    "label_X_train[good_label_cols] = OE_model.fit_transform(X_train[good_label_cols])\n",
    "label_X_valid[good_label_cols] = OE_model.fit_transform(X_valid[good_label_cols])\n",
    "    \n",
    "# Check your answer\n",
    "step_2.b.check()"
   ]
  },
  {
   "cell_type": "code",
   "execution_count": 14,
   "id": "6f98c100",
   "metadata": {
    "execution": {
     "iopub.execute_input": "2024-01-10T17:05:45.915280Z",
     "iopub.status.busy": "2024-01-10T17:05:45.914434Z",
     "iopub.status.idle": "2024-01-10T17:05:45.920094Z",
     "shell.execute_reply": "2024-01-10T17:05:45.919057Z"
    },
    "papermill": {
     "duration": 0.02692,
     "end_time": "2024-01-10T17:05:45.922771",
     "exception": false,
     "start_time": "2024-01-10T17:05:45.895851",
     "status": "completed"
    },
    "tags": []
   },
   "outputs": [],
   "source": [
    "# Lines below will give you a hint or solution code\n",
    "#step_2.b.hint()\n",
    "#step_2.b.solution()"
   ]
  },
  {
   "cell_type": "markdown",
   "id": "5898e9c5",
   "metadata": {
    "papermill": {
     "duration": 0.015497,
     "end_time": "2024-01-10T17:05:45.954088",
     "exception": false,
     "start_time": "2024-01-10T17:05:45.938591",
     "status": "completed"
    },
    "tags": []
   },
   "source": [
    "Run the next code cell to get the MAE for this approach."
   ]
  },
  {
   "cell_type": "code",
   "execution_count": 15,
   "id": "47ae71c0",
   "metadata": {
    "execution": {
     "iopub.execute_input": "2024-01-10T17:05:45.992657Z",
     "iopub.status.busy": "2024-01-10T17:05:45.991735Z",
     "iopub.status.idle": "2024-01-10T17:05:47.798553Z",
     "shell.execute_reply": "2024-01-10T17:05:47.797067Z"
    },
    "papermill": {
     "duration": 1.831606,
     "end_time": "2024-01-10T17:05:47.801498",
     "exception": false,
     "start_time": "2024-01-10T17:05:45.969892",
     "status": "completed"
    },
    "tags": []
   },
   "outputs": [
    {
     "name": "stdout",
     "output_type": "stream",
     "text": [
      "MAE from Approach 2 (Ordinal Encoding):\n",
      "17274.866860730595\n"
     ]
    }
   ],
   "source": [
    "print(\"MAE from Approach 2 (Ordinal Encoding):\") \n",
    "print(score_dataset(label_X_train, label_X_valid, y_train, y_valid))"
   ]
  },
  {
   "cell_type": "markdown",
   "id": "07f88ea4",
   "metadata": {
    "papermill": {
     "duration": 0.016228,
     "end_time": "2024-01-10T17:05:47.834915",
     "exception": false,
     "start_time": "2024-01-10T17:05:47.818687",
     "status": "completed"
    },
    "tags": []
   },
   "source": [
    "So far, you've tried two different approaches to dealing with categorical variables.  And, you've seen that encoding categorical data yields better results than removing columns from the dataset.\n",
    "\n",
    "Soon, you'll try one-hot encoding.  Before then, there's one additional topic we need to cover.  Begin by running the next code cell without changes.  "
   ]
  },
  {
   "cell_type": "code",
   "execution_count": 16,
   "id": "537ffd0f",
   "metadata": {
    "execution": {
     "iopub.execute_input": "2024-01-10T17:05:47.871013Z",
     "iopub.status.busy": "2024-01-10T17:05:47.870221Z",
     "iopub.status.idle": "2024-01-10T17:05:47.887979Z",
     "shell.execute_reply": "2024-01-10T17:05:47.886716Z"
    },
    "papermill": {
     "duration": 0.039042,
     "end_time": "2024-01-10T17:05:47.890766",
     "exception": false,
     "start_time": "2024-01-10T17:05:47.851724",
     "status": "completed"
    },
    "tags": []
   },
   "outputs": [
    {
     "name": "stdout",
     "output_type": "stream",
     "text": [
      "[5, 2, 4, 4, 2, 5, 3, 25, 9, 6, 5, 8, 6, 7, 15, 16, 4, 5, 6, 6, 5, 2, 4, 6, 3, 9, 6]\n",
      "\n",
      " {'MSZoning': 5, 'Street': 2, 'LotShape': 4, 'LandContour': 4, 'Utilities': 2, 'LotConfig': 5, 'LandSlope': 3, 'Neighborhood': 25, 'Condition1': 9, 'Condition2': 6, 'BldgType': 5, 'HouseStyle': 8, 'RoofStyle': 6, 'RoofMatl': 7, 'Exterior1st': 15, 'Exterior2nd': 16, 'ExterQual': 4, 'ExterCond': 5, 'Foundation': 6, 'Heating': 6, 'HeatingQC': 5, 'CentralAir': 2, 'KitchenQual': 4, 'Functional': 6, 'PavedDrive': 3, 'SaleType': 9, 'SaleCondition': 6}\n"
     ]
    },
    {
     "data": {
      "text/plain": [
       "[('Street', 2),\n",
       " ('Utilities', 2),\n",
       " ('CentralAir', 2),\n",
       " ('LandSlope', 3),\n",
       " ('PavedDrive', 3),\n",
       " ('LotShape', 4),\n",
       " ('LandContour', 4),\n",
       " ('ExterQual', 4),\n",
       " ('KitchenQual', 4),\n",
       " ('MSZoning', 5),\n",
       " ('LotConfig', 5),\n",
       " ('BldgType', 5),\n",
       " ('ExterCond', 5),\n",
       " ('HeatingQC', 5),\n",
       " ('Condition2', 6),\n",
       " ('RoofStyle', 6),\n",
       " ('Foundation', 6),\n",
       " ('Heating', 6),\n",
       " ('Functional', 6),\n",
       " ('SaleCondition', 6),\n",
       " ('RoofMatl', 7),\n",
       " ('HouseStyle', 8),\n",
       " ('Condition1', 9),\n",
       " ('SaleType', 9),\n",
       " ('Exterior1st', 15),\n",
       " ('Exterior2nd', 16),\n",
       " ('Neighborhood', 25)]"
      ]
     },
     "execution_count": 16,
     "metadata": {},
     "output_type": "execute_result"
    }
   ],
   "source": [
    "# Get number of unique entries in each column with categorical data\n",
    "object_nunique = list(map(lambda col: X_train[col].nunique(), object_cols))\n",
    "d = dict(zip(object_cols, object_nunique))\n",
    "\n",
    "print(object_nunique)\n",
    "print(\"\\n\",d)\n",
    "\n",
    "# Print number of unique entries by column, in ascending order\n",
    "sorted(d.items(), key=lambda x: x[1])\n"
   ]
  },
  {
   "cell_type": "markdown",
   "id": "46f56ba5",
   "metadata": {
    "papermill": {
     "duration": 0.016177,
     "end_time": "2024-01-10T17:05:47.924290",
     "exception": false,
     "start_time": "2024-01-10T17:05:47.908113",
     "status": "completed"
    },
    "tags": []
   },
   "source": [
    "# Step 3: Investigating cardinality\n",
    "\n",
    "### Part A\n",
    "\n",
    "The output above shows, for each column with categorical data, the number of unique values in the column.  For instance, the `'Street'` column in the training data has two unique values: `'Grvl'` and `'Pave'`, corresponding to a gravel road and a paved road, respectively.\n",
    "\n",
    "We refer to the number of unique entries of a categorical variable as the **cardinality** of that categorical variable.  For instance, the `'Street'` variable has cardinality 2.\n",
    "\n",
    "Use the output above to answer the questions below."
   ]
  },
  {
   "cell_type": "code",
   "execution_count": 17,
   "id": "d633ff8d",
   "metadata": {
    "execution": {
     "iopub.execute_input": "2024-01-10T17:05:47.958404Z",
     "iopub.status.busy": "2024-01-10T17:05:47.957994Z",
     "iopub.status.idle": "2024-01-10T17:05:47.969356Z",
     "shell.execute_reply": "2024-01-10T17:05:47.968008Z"
    },
    "papermill": {
     "duration": 0.031747,
     "end_time": "2024-01-10T17:05:47.972018",
     "exception": false,
     "start_time": "2024-01-10T17:05:47.940271",
     "status": "completed"
    },
    "tags": []
   },
   "outputs": [
    {
     "data": {
      "application/javascript": [
       "parent.postMessage({\"jupyterEvent\": \"custom.exercise_interaction\", \"data\": {\"outcomeType\": 1, \"valueTowardsCompletion\": 0.5, \"interactionType\": 1, \"questionType\": 1, \"questionId\": \"3.1_CardinalityA\", \"learnToolsVersion\": \"0.3.4\", \"failureMessage\": \"\", \"exceptionClass\": \"\", \"trace\": \"\"}}, \"*\")"
      ],
      "text/plain": [
       "<IPython.core.display.Javascript object>"
      ]
     },
     "metadata": {},
     "output_type": "display_data"
    },
    {
     "data": {
      "text/markdown": [
       "<span style=\"color:#33cc33\">Correct</span>"
      ],
      "text/plain": [
       "Correct"
      ]
     },
     "metadata": {},
     "output_type": "display_data"
    }
   ],
   "source": [
    "# Fill in the line below: How many categorical variables in the training data\n",
    "# have cardinality greater than 10?\n",
    "high_cardinality_numcols = len(list(filter(lambda x: x>10, object_nunique)))\n",
    "\n",
    "# Fill in the line below: How many columns are needed to one-hot encode the \n",
    "# 'Neighborhood' variable in the training data?\n",
    "num_cols_neighborhood = d.get('Neighborhood')\n",
    "\n",
    "# Check your answers\n",
    "step_3.a.check()"
   ]
  },
  {
   "cell_type": "code",
   "execution_count": 18,
   "id": "8eb415d8",
   "metadata": {
    "execution": {
     "iopub.execute_input": "2024-01-10T17:05:48.009663Z",
     "iopub.status.busy": "2024-01-10T17:05:48.009248Z",
     "iopub.status.idle": "2024-01-10T17:05:48.015231Z",
     "shell.execute_reply": "2024-01-10T17:05:48.013707Z"
    },
    "papermill": {
     "duration": 0.028561,
     "end_time": "2024-01-10T17:05:48.017906",
     "exception": false,
     "start_time": "2024-01-10T17:05:47.989345",
     "status": "completed"
    },
    "tags": []
   },
   "outputs": [],
   "source": [
    "# Lines below will give you a hint or solution code\n",
    "#step_3.a.hint()\n",
    "#step_3.a.solution()"
   ]
  },
  {
   "cell_type": "markdown",
   "id": "5496ed4f",
   "metadata": {
    "papermill": {
     "duration": 0.018207,
     "end_time": "2024-01-10T17:05:48.053129",
     "exception": false,
     "start_time": "2024-01-10T17:05:48.034922",
     "status": "completed"
    },
    "tags": []
   },
   "source": [
    "### Part B\n",
    "\n",
    "For large datasets with many rows, one-hot encoding can greatly expand the size of the dataset.  For this reason, we typically will only one-hot encode columns with relatively low cardinality.  Then, high cardinality columns can either be dropped from the dataset, or we can use ordinal encoding.\n",
    "\n",
    "As an example, consider a dataset with 10,000 rows, and containing one categorical column with 100 unique entries.  \n",
    "- If this column is replaced with the corresponding one-hot encoding, how many entries are added to the dataset?  \n",
    "- If we instead replace the column with the ordinal encoding, how many entries are added?  \n",
    "\n",
    "Use your answers to fill in the lines below."
   ]
  },
  {
   "cell_type": "code",
   "execution_count": 19,
   "id": "deaf3b15",
   "metadata": {
    "execution": {
     "iopub.execute_input": "2024-01-10T17:05:48.088742Z",
     "iopub.status.busy": "2024-01-10T17:05:48.088329Z",
     "iopub.status.idle": "2024-01-10T17:05:48.100334Z",
     "shell.execute_reply": "2024-01-10T17:05:48.098836Z"
    },
    "papermill": {
     "duration": 0.032718,
     "end_time": "2024-01-10T17:05:48.103068",
     "exception": false,
     "start_time": "2024-01-10T17:05:48.070350",
     "status": "completed"
    },
    "tags": []
   },
   "outputs": [
    {
     "data": {
      "application/javascript": [
       "parent.postMessage({\"jupyterEvent\": \"custom.exercise_interaction\", \"data\": {\"outcomeType\": 1, \"valueTowardsCompletion\": 0.5, \"interactionType\": 1, \"questionType\": 1, \"questionId\": \"3.2_CardinalityB\", \"learnToolsVersion\": \"0.3.4\", \"failureMessage\": \"\", \"exceptionClass\": \"\", \"trace\": \"\"}}, \"*\")"
      ],
      "text/plain": [
       "<IPython.core.display.Javascript object>"
      ]
     },
     "metadata": {},
     "output_type": "display_data"
    },
    {
     "data": {
      "text/markdown": [
       "<span style=\"color:#33cc33\">Correct</span>"
      ],
      "text/plain": [
       "Correct"
      ]
     },
     "metadata": {},
     "output_type": "display_data"
    }
   ],
   "source": [
    "# Fill in the line below: How many entries are added to the dataset by \n",
    "# replacing the column with a one-hot encoding?\n",
    "OH_entries_added = 10**4*100 - 10**4\n",
    "\n",
    "# Fill in the line below: How many entries are added to the dataset by\n",
    "# replacing the column with an ordinal encoding?\n",
    "label_entries_added = 0\n",
    "\n",
    "# Check your answers\n",
    "step_3.b.check()"
   ]
  },
  {
   "cell_type": "code",
   "execution_count": 20,
   "id": "e5320be1",
   "metadata": {
    "execution": {
     "iopub.execute_input": "2024-01-10T17:05:48.139023Z",
     "iopub.status.busy": "2024-01-10T17:05:48.138572Z",
     "iopub.status.idle": "2024-01-10T17:05:48.144349Z",
     "shell.execute_reply": "2024-01-10T17:05:48.142602Z"
    },
    "papermill": {
     "duration": 0.027598,
     "end_time": "2024-01-10T17:05:48.147316",
     "exception": false,
     "start_time": "2024-01-10T17:05:48.119718",
     "status": "completed"
    },
    "tags": []
   },
   "outputs": [],
   "source": [
    "# Lines below will give you a hint or solution code\n",
    "#step_3.b.hint()\n",
    "#step_3.b.solution()"
   ]
  },
  {
   "cell_type": "markdown",
   "id": "03f78b2f",
   "metadata": {
    "papermill": {
     "duration": 0.016695,
     "end_time": "2024-01-10T17:05:48.182379",
     "exception": false,
     "start_time": "2024-01-10T17:05:48.165684",
     "status": "completed"
    },
    "tags": []
   },
   "source": [
    "Next, you'll experiment with one-hot encoding.  But, instead of encoding all of the categorical variables in the dataset, you'll only create a one-hot encoding for columns with cardinality less than 10.\n",
    "\n",
    "Run the code cell below without changes to set `low_cardinality_cols` to a Python list containing the columns that will be one-hot encoded.  Likewise, `high_cardinality_cols` contains a list of categorical columns that will be dropped from the dataset."
   ]
  },
  {
   "cell_type": "code",
   "execution_count": 21,
   "id": "25510824",
   "metadata": {
    "execution": {
     "iopub.execute_input": "2024-01-10T17:05:48.218528Z",
     "iopub.status.busy": "2024-01-10T17:05:48.218114Z",
     "iopub.status.idle": "2024-01-10T17:05:48.231046Z",
     "shell.execute_reply": "2024-01-10T17:05:48.229477Z"
    },
    "papermill": {
     "duration": 0.033982,
     "end_time": "2024-01-10T17:05:48.233558",
     "exception": false,
     "start_time": "2024-01-10T17:05:48.199576",
     "status": "completed"
    },
    "tags": []
   },
   "outputs": [
    {
     "name": "stdout",
     "output_type": "stream",
     "text": [
      "Categorical columns that will be one-hot encoded: ['MSZoning', 'Street', 'LotShape', 'LandContour', 'Utilities', 'LotConfig', 'LandSlope', 'Condition1', 'Condition2', 'BldgType', 'HouseStyle', 'RoofStyle', 'RoofMatl', 'ExterQual', 'ExterCond', 'Foundation', 'Heating', 'HeatingQC', 'CentralAir', 'KitchenQual', 'Functional', 'PavedDrive', 'SaleType', 'SaleCondition']\n",
      "\n",
      "Categorical columns that will be dropped from the dataset: ['Exterior1st', 'Neighborhood', 'Exterior2nd']\n"
     ]
    }
   ],
   "source": [
    "# Columns that will be one-hot encoded\n",
    "low_cardinality_cols = [col for col in object_cols if X_train[col].nunique() < 10]\n",
    "\n",
    "# Columns that will be dropped from the dataset\n",
    "high_cardinality_cols = list(set(object_cols)-set(low_cardinality_cols))\n",
    "\n",
    "print('Categorical columns that will be one-hot encoded:', low_cardinality_cols)\n",
    "print('\\nCategorical columns that will be dropped from the dataset:', high_cardinality_cols)"
   ]
  },
  {
   "cell_type": "markdown",
   "id": "db51da86",
   "metadata": {
    "papermill": {
     "duration": 0.016684,
     "end_time": "2024-01-10T17:05:48.267169",
     "exception": false,
     "start_time": "2024-01-10T17:05:48.250485",
     "status": "completed"
    },
    "tags": []
   },
   "source": [
    "# Step 4: One-hot encoding\n",
    "\n",
    "Use the next code cell to one-hot encode the data in `X_train` and `X_valid`.  Set the preprocessed DataFrames to `OH_X_train` and `OH_X_valid`, respectively.  \n",
    "- The full list of categorical columns in the dataset can be found in the Python list `object_cols`.\n",
    "- You should only one-hot encode the categorical columns in `low_cardinality_cols`.  All other categorical columns should be dropped from the dataset. "
   ]
  },
  {
   "cell_type": "code",
   "execution_count": 22,
   "id": "a7dfa261",
   "metadata": {
    "execution": {
     "iopub.execute_input": "2024-01-10T17:05:48.303528Z",
     "iopub.status.busy": "2024-01-10T17:05:48.302486Z",
     "iopub.status.idle": "2024-01-10T17:05:48.316220Z",
     "shell.execute_reply": "2024-01-10T17:05:48.315086Z"
    },
    "papermill": {
     "duration": 0.034709,
     "end_time": "2024-01-10T17:05:48.318949",
     "exception": false,
     "start_time": "2024-01-10T17:05:48.284240",
     "status": "completed"
    },
    "tags": []
   },
   "outputs": [
    {
     "name": "stdout",
     "output_type": "stream",
     "text": [
      "     MSSubClass MSZoning  LotArea Street LotShape LandContour Utilities  \\\n",
      "Id                                                                        \n",
      "619          20       RL    11694   Pave      Reg         Lvl    AllPub   \n",
      "871          20       RL     6600   Pave      Reg         Lvl    AllPub   \n",
      "93           30       RL    13360   Pave      IR1         HLS    AllPub   \n",
      "818          20       RL    13265   Pave      IR1         Lvl    AllPub   \n",
      "303          20       RL    13704   Pave      IR1         Lvl    AllPub   \n",
      "\n",
      "    LotConfig LandSlope Neighborhood  ... OpenPorchSF EnclosedPorch 3SsnPorch  \\\n",
      "Id                                    ...                                       \n",
      "619    Inside       Gtl      NridgHt  ...         108             0         0   \n",
      "871    Inside       Gtl        NAmes  ...           0             0         0   \n",
      "93     Inside       Gtl      Crawfor  ...           0            44         0   \n",
      "818   CulDSac       Gtl      Mitchel  ...          59             0         0   \n",
      "303    Corner       Gtl      CollgCr  ...          81             0         0   \n",
      "\n",
      "    ScreenPorch  PoolArea  MiscVal  MoSold  YrSold SaleType SaleCondition  \n",
      "Id                                                                         \n",
      "619         260         0        0       7    2007      New       Partial  \n",
      "871           0         0        0       8    2009       WD        Normal  \n",
      "93            0         0        0       8    2009       WD        Normal  \n",
      "818           0         0        0       7    2008       WD        Normal  \n",
      "303           0         0        0       1    2006       WD        Normal  \n",
      "\n",
      "[5 rows x 60 columns]\n"
     ]
    }
   ],
   "source": [
    "print(X_train.head())"
   ]
  },
  {
   "cell_type": "code",
   "execution_count": 23,
   "id": "db39259e",
   "metadata": {
    "execution": {
     "iopub.execute_input": "2024-01-10T17:05:48.355514Z",
     "iopub.status.busy": "2024-01-10T17:05:48.354181Z",
     "iopub.status.idle": "2024-01-10T17:05:48.409555Z",
     "shell.execute_reply": "2024-01-10T17:05:48.408371Z"
    },
    "papermill": {
     "duration": 0.076197,
     "end_time": "2024-01-10T17:05:48.412096",
     "exception": false,
     "start_time": "2024-01-10T17:05:48.335899",
     "status": "completed"
    },
    "tags": []
   },
   "outputs": [
    {
     "data": {
      "application/javascript": [
       "parent.postMessage({\"jupyterEvent\": \"custom.exercise_interaction\", \"data\": {\"outcomeType\": 1, \"valueTowardsCompletion\": 0.5, \"interactionType\": 1, \"questionType\": 2, \"questionId\": \"4_OneHot\", \"learnToolsVersion\": \"0.3.4\", \"failureMessage\": \"\", \"exceptionClass\": \"\", \"trace\": \"\"}}, \"*\")"
      ],
      "text/plain": [
       "<IPython.core.display.Javascript object>"
      ]
     },
     "metadata": {},
     "output_type": "display_data"
    },
    {
     "data": {
      "text/markdown": [
       "<span style=\"color:#33cc33\">Correct</span>"
      ],
      "text/plain": [
       "Correct"
      ]
     },
     "metadata": {},
     "output_type": "display_data"
    }
   ],
   "source": [
    "from sklearn.preprocessing import OneHotEncoder\n",
    "# Use as many lines of code as you need!\n",
    "\n",
    "# Apply one-hot encoder to each column with categorical data\n",
    "OH_encoder = OneHotEncoder(handle_unknown='ignore', sparse_output = False)\n",
    "OH_cols_train = pd.DataFrame(OH_encoder.fit_transform(X_train[low_cardinality_cols]))\n",
    "OH_cols_valid = pd.DataFrame(OH_encoder.transform(X_valid[low_cardinality_cols]))\n",
    "\n",
    "# One-hot encoding removed index; put it back\n",
    "OH_cols_train.index = X_train.index\n",
    "OH_cols_valid.index = X_valid.index\n",
    "\n",
    "# Remove categorical columns (will replace with one-hot encoding)\n",
    "num_X_train = X_train.drop(object_cols, axis=1)\n",
    "num_X_valid = X_valid.drop(object_cols, axis=1)\n",
    "\n",
    "# Add one-hot encoded columns to numerical features\n",
    "OH_X_train = pd.concat([num_X_train, OH_cols_train], axis=1) \n",
    "# Your code here\n",
    "OH_X_valid = pd.concat([num_X_valid, OH_cols_valid], axis=1) \n",
    "# Your code here\n",
    "\n",
    "OH_X_train.columns = OH_X_train.columns.astype(str)\n",
    "OH_X_valid.columns = OH_X_valid.columns.astype(str)\n",
    "\n",
    "# Check your answer\n",
    "step_4.check()"
   ]
  },
  {
   "cell_type": "code",
   "execution_count": 24,
   "id": "c32e939f",
   "metadata": {
    "execution": {
     "iopub.execute_input": "2024-01-10T17:05:48.453467Z",
     "iopub.status.busy": "2024-01-10T17:05:48.452107Z",
     "iopub.status.idle": "2024-01-10T17:05:48.457746Z",
     "shell.execute_reply": "2024-01-10T17:05:48.456732Z"
    },
    "papermill": {
     "duration": 0.028355,
     "end_time": "2024-01-10T17:05:48.460684",
     "exception": false,
     "start_time": "2024-01-10T17:05:48.432329",
     "status": "completed"
    },
    "tags": []
   },
   "outputs": [],
   "source": [
    "# Lines below will give you a hint or solution code\n",
    "#step_4.hint()\n",
    "#step_4.solution()"
   ]
  },
  {
   "cell_type": "markdown",
   "id": "2480e70f",
   "metadata": {
    "papermill": {
     "duration": 0.018299,
     "end_time": "2024-01-10T17:05:48.500415",
     "exception": false,
     "start_time": "2024-01-10T17:05:48.482116",
     "status": "completed"
    },
    "tags": []
   },
   "source": [
    "Run the next code cell to get the MAE for this approach."
   ]
  },
  {
   "cell_type": "code",
   "execution_count": 25,
   "id": "6a365bd9",
   "metadata": {
    "execution": {
     "iopub.execute_input": "2024-01-10T17:05:48.541271Z",
     "iopub.status.busy": "2024-01-10T17:05:48.540829Z",
     "iopub.status.idle": "2024-01-10T17:05:50.622199Z",
     "shell.execute_reply": "2024-01-10T17:05:50.620475Z"
    },
    "papermill": {
     "duration": 2.105422,
     "end_time": "2024-01-10T17:05:50.625616",
     "exception": false,
     "start_time": "2024-01-10T17:05:48.520194",
     "status": "completed"
    },
    "tags": []
   },
   "outputs": [
    {
     "name": "stdout",
     "output_type": "stream",
     "text": [
      "MAE from Approach 3 (One-Hot Encoding):\n",
      "17525.345719178084\n"
     ]
    }
   ],
   "source": [
    "print(\"MAE from Approach 3 (One-Hot Encoding):\") \n",
    "print(score_dataset(OH_X_train, OH_X_valid, y_train, y_valid))"
   ]
  },
  {
   "cell_type": "markdown",
   "id": "491e94bf",
   "metadata": {
    "papermill": {
     "duration": 0.017733,
     "end_time": "2024-01-10T17:05:50.661910",
     "exception": false,
     "start_time": "2024-01-10T17:05:50.644177",
     "status": "completed"
    },
    "tags": []
   },
   "source": [
    "# Generate test predictions and submit your results\n",
    "\n",
    "After you complete Step 4, if you'd like to use what you've learned to submit your results to the leaderboard, you'll need to preprocess the test data before generating predictions.\n",
    "\n",
    "**This step is completely optional, and you do not need to submit results to the leaderboard to successfully complete the exercise.**\n",
    "\n",
    "Check out the previous exercise if you need help with remembering how to [join the competition](https://www.kaggle.com/c/home-data-for-ml-course) or save your results to CSV.  Once you have generated a file with your results, follow the instructions below:\n",
    "1. Begin by clicking on the **Save Version** button in the top right corner of the window.  This will generate a pop-up window.  \n",
    "2. Ensure that the **Save and Run All** option is selected, and then click on the **Save** button.\n",
    "3. This generates a window in the bottom left corner of the notebook.  After it has finished running, click on the number to the right of the **Save Version** button.  This pulls up a list of versions on the right of the screen.  Click on the ellipsis **(...)** to the right of the most recent version, and select **Open in Viewer**.  This brings you into view mode of the same page. You will need to scroll down to get back to these instructions.\n",
    "4. Click on the **Data** tab near the top of the screen.  Then, click on the file you would like to submit, and click on the **Submit** button to submit your results to the leaderboard.\n",
    "\n",
    "You have now successfully submitted to the competition!\n",
    "\n",
    "If you want to keep working to improve your performance, select the **Edit** button in the top right of the screen. Then you can change your code and repeat the process. There's a lot of room to improve, and you will climb up the leaderboard as you work.\n"
   ]
  },
  {
   "cell_type": "code",
   "execution_count": 26,
   "id": "60df95a2",
   "metadata": {
    "execution": {
     "iopub.execute_input": "2024-01-10T17:05:50.701287Z",
     "iopub.status.busy": "2024-01-10T17:05:50.700344Z",
     "iopub.status.idle": "2024-01-10T17:05:50.706099Z",
     "shell.execute_reply": "2024-01-10T17:05:50.704720Z"
    },
    "papermill": {
     "duration": 0.027506,
     "end_time": "2024-01-10T17:05:50.708620",
     "exception": false,
     "start_time": "2024-01-10T17:05:50.681114",
     "status": "completed"
    },
    "tags": []
   },
   "outputs": [],
   "source": [
    "# (Optional) Your code here"
   ]
  },
  {
   "cell_type": "markdown",
   "id": "757f7a31",
   "metadata": {
    "papermill": {
     "duration": 0.017841,
     "end_time": "2024-01-10T17:05:50.745750",
     "exception": false,
     "start_time": "2024-01-10T17:05:50.727909",
     "status": "completed"
    },
    "tags": []
   },
   "source": [
    "# Keep going\n",
    "\n",
    "With missing value handling and categorical encoding, your modeling process is getting complex. This complexity gets worse when you want to save your model to use in the future. The key to managing this complexity is something called **pipelines**. \n",
    "\n",
    "**[Learn to use pipelines](https://www.kaggle.com/alexisbcook/pipelines)** to preprocess datasets with categorical variables, missing values and any other messiness your data throws at you."
   ]
  },
  {
   "cell_type": "markdown",
   "id": "2d87af31",
   "metadata": {
    "papermill": {
     "duration": 0.01769,
     "end_time": "2024-01-10T17:05:50.782178",
     "exception": false,
     "start_time": "2024-01-10T17:05:50.764488",
     "status": "completed"
    },
    "tags": []
   },
   "source": [
    "---\n",
    "\n",
    "\n",
    "\n",
    "\n",
    "*Have questions or comments? Visit the [course discussion forum](https://www.kaggle.com/learn/intermediate-machine-learning/discussion) to chat with other learners.*"
   ]
  }
 ],
 "metadata": {
  "kaggle": {
   "accelerator": "none",
   "dataSources": [
    {
     "databundleVersionId": 111096,
     "sourceId": 10211,
     "sourceType": "competition"
    }
   ],
   "isGpuEnabled": false,
   "isInternetEnabled": false,
   "language": "python",
   "sourceType": "notebook"
  },
  "kernelspec": {
   "display_name": "Python 3",
   "language": "python",
   "name": "python3"
  },
  "language_info": {
   "codemirror_mode": {
    "name": "ipython",
    "version": 3
   },
   "file_extension": ".py",
   "mimetype": "text/x-python",
   "name": "python",
   "nbconvert_exporter": "python",
   "pygments_lexer": "ipython3",
   "version": "3.10.12"
  },
  "papermill": {
   "default_parameters": {},
   "duration": 14.444043,
   "end_time": "2024-01-10T17:05:51.422546",
   "environment_variables": {},
   "exception": null,
   "input_path": "__notebook__.ipynb",
   "output_path": "__notebook__.ipynb",
   "parameters": {},
   "start_time": "2024-01-10T17:05:36.978503",
   "version": "2.4.0"
  }
 },
 "nbformat": 4,
 "nbformat_minor": 5
}
